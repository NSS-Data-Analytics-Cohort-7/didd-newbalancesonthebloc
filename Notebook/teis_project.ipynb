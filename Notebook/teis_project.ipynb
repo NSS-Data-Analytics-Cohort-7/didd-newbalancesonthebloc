{
 "cells": [
  {
   "cell_type": "markdown",
   "id": "db81df30",
   "metadata": {},
   "source": [
    "# Project Objective\n",
    "Investigate whether there is any measurable difference in progress based on the eligibility category. There are three options:\n",
    "\n",
    "**Preliminary Analysis**\n",
    "\n",
    "+ Developmental evaluation (delay)\n",
    "+ Diagnosed condition\n",
    "+ Diagnosed condition, developmental evaluation (by both delay and diagnosis)\n",
    "\n",
    "1. Start by looking at overall progress by eligibility category (column AI of the \"Elig Timeline Rpt 2018-2022\" tab)\n",
    "2. Factor in the time of service (\"ECO with Exit-21-22\" tab)\n",
    "3. Do the above comparison by POE as well (column A of the \"ECO with Exit21-22\")\n",
    "\n",
    "**Additional Analysis**\n",
    "\n",
    "Additional areas you can look into are listed below: \n",
    "+ Does typical time of service differ for different eligibility categories?\n",
    "+ Do exit reasons vary by eligibility category? Do more children in one eligibility category age out compared to leaving for other reasons?\n",
    "+ \"ECO with Exit21-22\" contains the entry ECO scores (columns D, E, and F) and exit scores (columns H, I, and J) Analyze these scores by looking at the typical improvement seen for each entry rating compared to the time of service. What percentage of children entering with a score of 1 also exit with a score of 1? How many improve to a 2 or a 3? How does this vary by time of service?"
   ]
  },
  {
   "cell_type": "markdown",
   "id": "3dba18b2",
   "metadata": {},
   "source": [
    "## Notes from Team Conversation\n",
    "+ Merge multiple columns on 'child_id', likely need to convert float to integer\n",
    "+ Be mindful of unnecessary columns"
   ]
  },
  {
   "cell_type": "code",
   "execution_count": null,
   "id": "d1e51dba",
   "metadata": {},
   "outputs": [],
   "source": [
    "import pandas as pd\n",
    "import numpy as np\n",
    "import matplotlib.pyplot as plt\n",
    "import seaborn as sns\n",
    "\n",
    "%matplotlib inline"
   ]
  },
  {
   "cell_type": "code",
   "execution_count": null,
   "id": "0d5a68ae",
   "metadata": {
    "scrolled": true
   },
   "outputs": [],
   "source": [
    "eco_21_22_exit = pd.read_excel(\"../Data/TEIS-NSS Project Data 10-2022.xlsx\", sheet_name=\"ECO with Exit21-22\")\n",
    "eco_21_22_exit.head()"
   ]
  },
  {
   "cell_type": "code",
   "execution_count": null,
   "id": "6307d1bb",
   "metadata": {},
   "outputs": [],
   "source": [
    "eco_21_22_exit.info()"
   ]
  },
  {
   "cell_type": "code",
   "execution_count": null,
   "id": "a7b812ef",
   "metadata": {
    "scrolled": true
   },
   "outputs": [],
   "source": [
    "eco_21_22_data = pd.read_excel(\"../Data/TEIS-NSS Project Data 10-2022.xlsx\", sheet_name=\"Elig Timeline Rpt 2018-2022\")\n",
    "eco_21_22_data.head()"
   ]
  },
  {
   "cell_type": "code",
   "execution_count": null,
   "id": "907fdcaf",
   "metadata": {},
   "outputs": [],
   "source": [
    "eco_21_22_data.info()"
   ]
  },
  {
   "cell_type": "code",
   "execution_count": null,
   "id": "7e7d9b61",
   "metadata": {},
   "outputs": [],
   "source": []
  }
 ],
 "metadata": {
  "kernelspec": {
   "display_name": "Python 3 (ipykernel)",
   "language": "python",
   "name": "python3"
  },
  "language_info": {
   "codemirror_mode": {
    "name": "ipython",
    "version": 3
   },
   "file_extension": ".py",
   "mimetype": "text/x-python",
   "name": "python",
   "nbconvert_exporter": "python",
   "pygments_lexer": "ipython3",
   "version": "3.9.12"
  }
 },
 "nbformat": 4,
 "nbformat_minor": 5
}
