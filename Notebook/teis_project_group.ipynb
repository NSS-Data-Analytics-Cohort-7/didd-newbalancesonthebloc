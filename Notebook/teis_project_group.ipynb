{
 "cells": [
  {
   "cell_type": "markdown",
   "id": "ca4dd9d4",
   "metadata": {},
   "source": [
    "# Project Objective\n",
    "\n",
    "Additional areas you can look into are listed below: \n",
    "+ **Time of Service `<<OUR SECTION>>`** Does typical time of service differ for different eligibility categories?\n",
    "\n",
    "**Timeline**\n",
    "+ Tuesday, Oct 11 + Thursday, Oct 13 (notebook walkthrough): EDA / pick topic\n",
    "+ Saturday, Oct 15 + Tuesday, Oct 18: Analysis\n",
    "+ Thursday, Oct 20 (notebook walkthrough): graphs / put together slides\n",
    "+ Saturday, Oct 22: polish presentations in the morning, then dress rehearsal in the afternoon - fix issues between Saturday and Tuesday\n",
    "+ Tuesday, Oct 25: presentation\n",
    "\n",
    "**Abi Advice**\n",
    "+ Decide on naming conventions and case/capitalization `COMPLETED`\n",
    "+ Spend time together brainstorming potential avenues: ie, \"Abi is going to look into the colors, Rob is going to look into the elements\"\n",
    "+ Split up for EDA, but don't be afraid to ask each other for help if you get stuck; ie, \"I can't figure out this error message can someone help me quickly?\"\n",
    "+ Reconvene at a designated time and share findings: ie, \"the most common color is x, the most common element is y\"\n",
    "+ Come up with a goal / route you want to take, and work together and share code to accomplish it"
   ]
  },
  {
   "cell_type": "markdown",
   "id": "a8111b04",
   "metadata": {},
   "source": [
    "### Time of Service: Does typical time of service differ for different eligibility categories?\n",
    "+ Info is contained in 'ECO with Exit21-22' (eco_21_22_exit)\n",
    "+ Info is contained in 'Elig Timeline Rpt 2018-2022' (eco_21_22_data)\n",
    ">+ What do we need?\n",
    "    >>+ \"typical time of service\": 'ECO with Exit21-22' (eco_21_22_exit)\n",
    "    >>>+ Preston (column BF: 'Days btw I-ISFP and Exit') **case management life cycle**\n",
    "    >>>+ Preston (column BG: 'Days btw Initial and Exit') **case management life cycle**\n",
    "    >>>+ Matt (columns G-C) **services provided**\n",
    "    >>>+ Sarah (column R)\n",
    "    >>>+ Delegate: explore each methodology and make a case for consistency among them\n",
    "    >>>+ Consider: making a case for each during presentation\n",
    "    >>>+ Consider visualizing metrics\n",
    "    >>+ \"eligibility categories\": 'Elig Timeline Rpt 2018-2022' (eco_21_22_data)\n",
    "    >>>+ column AI\n",
    "\n",
    "\n",
    "+ Visuals\n",
    ">+ line chart: Preston and Matt for life cycle over time\n",
    ">+ bar chart: Sarah suggested count of days (y axis) per category (x axis)\n",
    ">+ FacetGrid: compare categories at same time\n",
    ">+ histogram: further break out the averages (provide further insight into the bar chart)"
   ]
  },
  {
   "cell_type": "code",
   "execution_count": null,
   "id": "b014445f",
   "metadata": {},
   "outputs": [],
   "source": [
    "import pandas as pd\n",
    "import numpy as np\n",
    "import matplotlib.pyplot as plt\n",
    "import seaborn as sns\n",
    "\n",
    "%matplotlib inline"
   ]
  },
  {
   "cell_type": "code",
   "execution_count": null,
   "id": "44ea17dd",
   "metadata": {
    "scrolled": true
   },
   "outputs": [],
   "source": [
    "# Access raw dataframe\n",
    "eco_21_22_exit = pd.read_excel(\"../Data/TEIS-NSS Project Data 10-2022.xlsx\", sheet_name=\"ECO with Exit21-22\")\n",
    "eco_21_22_exit.head()"
   ]
  },
  {
   "cell_type": "code",
   "execution_count": null,
   "id": "a67a083f",
   "metadata": {
    "scrolled": false
   },
   "outputs": [],
   "source": [
    "# Display columns in dataframe\n",
    "eco_21_22_exit.info()"
   ]
  },
  {
   "cell_type": "code",
   "execution_count": null,
   "id": "357c6e41",
   "metadata": {
    "scrolled": false
   },
   "outputs": [],
   "source": [
    "# Access raw dataframe\n",
    "eco_21_22_data = pd.read_excel(\"../Data/TEIS-NSS Project Data 10-2022.xlsx\", sheet_name=\"Elig Timeline Rpt 2018-2022\")\n",
    "eco_21_22_data.head()"
   ]
  },
  {
   "cell_type": "code",
   "execution_count": null,
   "id": "cfa5ed62",
   "metadata": {
    "scrolled": true
   },
   "outputs": [],
   "source": [
    "# Display columns in dataframe\n",
    "eco_21_22_data.info()"
   ]
  },
  {
   "cell_type": "markdown",
   "id": "6cbc8562",
   "metadata": {},
   "source": [
    "#### Case Management Life Cycle"
   ]
  },
  {
   "cell_type": "code",
   "execution_count": null,
   "id": "51b85467",
   "metadata": {
    "scrolled": true
   },
   "outputs": [],
   "source": [
    "# Essential columns from 'ECO with Exit21-22' \n",
    "eco_21_22_exit = eco_21_22_exit[['DISTRICT', 'CHILD_ID', 'Days btw Initial and Exit', 'Days btw I-IFSP to entry ECO']]\n",
    "eco_21_22_exit.head()"
   ]
  },
  {
   "cell_type": "code",
   "execution_count": null,
   "id": "88160f35",
   "metadata": {
    "scrolled": false
   },
   "outputs": [],
   "source": [
    "# Change name of essential columns\n",
    "eco_21_22_exit = eco_21_22_exit.rename(columns={'DISTRICT':'District', 'CHILD_ID':'Child ID', 'Days btw Initial and Exit':'Initial to Exit', 'Days btw I-IFSP to entry ECO':'I-ISFP to Entry'})\n",
    "eco_21_22_exit.head()"
   ]
  },
  {
   "cell_type": "code",
   "execution_count": null,
   "id": "4acd9081",
   "metadata": {
    "scrolled": true
   },
   "outputs": [],
   "source": [
    "# Remove null values from essential columns\n",
    "eco_21_22_exit = eco_21_22_exit.dropna()\n",
    "eco_21_22_exit.head()"
   ]
  },
  {
   "cell_type": "code",
   "execution_count": null,
   "id": "98d10c0a",
   "metadata": {
    "scrolled": false
   },
   "outputs": [],
   "source": [
    "# Change data types of essential columns\n",
    "eco_21_22_exit = eco_21_22_exit.astype({'District':'str', 'Child ID':'int', 'Initial to Exit':'int', 'I-ISFP to Entry':'int'})\n",
    "eco_21_22_exit.head()"
   ]
  },
  {
   "cell_type": "code",
   "execution_count": null,
   "id": "b87387c3",
   "metadata": {
    "scrolled": true
   },
   "outputs": [],
   "source": [
    "# Filter 0 and negative values from the 'I-ISFP to Entry' column\n",
    "eco_21_22_exit = eco_21_22_exit[eco_21_22_exit['I-ISFP to Entry'] > 0]\n",
    "# Filter entries from 'Initial to Exit' column that are less than 6 months (180 days)\n",
    "eco_21_22_exit = eco_21_22_exit[eco_21_22_exit['Initial to Exit'] >= 180]\n",
    "eco_21_22_exit.head()"
   ]
  },
  {
   "cell_type": "code",
   "execution_count": null,
   "id": "b89e40fd",
   "metadata": {
    "scrolled": true
   },
   "outputs": [],
   "source": [
    "# Change name of 'Init. Elig. Category' columns from 'Elig Timeline Rpt 2018-2022'\n",
    "eco_21_22_data = eco_21_22_data.rename(columns={'Init. Elig. Category':'Init Elig Category'})\n",
    "eco_21_22_data.head()"
   ]
  },
  {
   "cell_type": "code",
   "execution_count": null,
   "id": "42fd32db",
   "metadata": {
    "scrolled": true
   },
   "outputs": [],
   "source": [
    "# Essential columns from 'Elig Timeline Rpt 2018-2022'\n",
    "eco_21_22_data = eco_21_22_data[['District', 'Child ID', 'Init Elig Category']]\n",
    "eco_21_22_data.head()"
   ]
  },
  {
   "cell_type": "markdown",
   "id": "d57317bd",
   "metadata": {},
   "source": [
    "#### > > Final Product Case Management Lifecycle"
   ]
  },
  {
   "cell_type": "code",
   "execution_count": null,
   "id": "78398639",
   "metadata": {},
   "outputs": [],
   "source": [
    "# Merge the eco_21_22_exit and eco_21_22_data dataframes\n",
    "serv_lifecycle = eco_21_22_exit.merge(eco_21_22_data, on=['District', 'Child ID'], how='inner')\n",
    "serv_lifecycle.head()"
   ]
  },
  {
   "cell_type": "markdown",
   "id": "61030425",
   "metadata": {},
   "source": [
    "#### Services Provided Life Cycle"
   ]
  },
  {
   "cell_type": "code",
   "execution_count": null,
   "id": "7b60e675",
   "metadata": {
    "scrolled": false
   },
   "outputs": [],
   "source": [
    "# Essential columns from 'Elig Timeline Rpt 2018-2022' \n",
    "eco_21_22_exit2 = eco_21_22_exit[['DISTRICT', 'CHILD_ID', 'ECO_Entry_DATE', 'ECO_Exit_DATE']]\n",
    "eco_21_22_exit2.head()"
   ]
  },
  {
   "cell_type": "code",
   "execution_count": null,
   "id": "24b7333f",
   "metadata": {
    "scrolled": true
   },
   "outputs": [],
   "source": [
    "# Change name of essential columns\n",
    "eco_21_22_exit2 = eco_21_22_exit2.rename(columns={'DISTRICT':'District', 'CHILD_ID':'Child ID', 'ECO_Entry_DATE':'Entry Date', 'ECO_Exit_DATE':'Exit Date'})\n",
    "eco_21_22_exit2.head()"
   ]
  },
  {
   "cell_type": "code",
   "execution_count": null,
   "id": "39fa2f95",
   "metadata": {},
   "outputs": [],
   "source": [
    "# Calculate duration from program entry to program exit\n",
    "eco_21_22_exit2['Duration'] = (eco_21_22_exit2['Exit Date'] - eco_21_22_exit2['Entry Date'])\n",
    "eco_21_22_exit2['Duration']"
   ]
  },
  {
   "cell_type": "code",
   "execution_count": null,
   "id": "753b8197",
   "metadata": {},
   "outputs": [],
   "source": [
    "# Remove null values from essential columns\n",
    "eco_21_22_exit2 = eco_21_22_exit2.dropna()\n",
    "eco_21_22_exit2.head()"
   ]
  },
  {
   "cell_type": "markdown",
   "id": "513b6365",
   "metadata": {},
   "source": [
    "#### > > Final Product Service Provision Lifecycle"
   ]
  },
  {
   "cell_type": "code",
   "execution_count": null,
   "id": "a218e7d9",
   "metadata": {
    "scrolled": true
   },
   "outputs": [],
   "source": [
    "# Merge the eco_21_22_exit1 and eco_21_22_data dataframes\n",
    "serv_lifecycle2 = eco_21_22_exit2.merge(eco_21_22_data, on=['District', 'Child ID'], how='inner')\n",
    "serv_lifecycle2.head()"
   ]
  },
  {
   "cell_type": "code",
   "execution_count": null,
   "id": "d76cba83",
   "metadata": {
    "scrolled": true
   },
   "outputs": [],
   "source": [
    "serv_lifecycle2.info()"
   ]
  },
  {
   "cell_type": "markdown",
   "id": "09f7cebc",
   "metadata": {},
   "source": [
    "#### Merge Above DataFrames"
   ]
  },
  {
   "cell_type": "code",
   "execution_count": null,
   "id": "4c51a464",
   "metadata": {},
   "outputs": [],
   "source": []
  },
  {
   "cell_type": "markdown",
   "id": "5080ca6c",
   "metadata": {},
   "source": [
    "#### Visuals"
   ]
  },
  {
   "cell_type": "code",
   "execution_count": null,
   "id": "cc707670",
   "metadata": {},
   "outputs": [],
   "source": []
  }
 ],
 "metadata": {
  "kernelspec": {
   "display_name": "Python 3 (ipykernel)",
   "language": "python",
   "name": "python3"
  },
  "language_info": {
   "codemirror_mode": {
    "name": "ipython",
    "version": 3
   },
   "file_extension": ".py",
   "mimetype": "text/x-python",
   "name": "python",
   "nbconvert_exporter": "python",
   "pygments_lexer": "ipython3",
   "version": "3.9.12"
  }
 },
 "nbformat": 4,
 "nbformat_minor": 5
}
