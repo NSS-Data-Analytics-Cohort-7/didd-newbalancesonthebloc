{
 "cells": [
  {
   "cell_type": "code",
   "execution_count": null,
   "id": "38b12fc6",
   "metadata": {},
   "outputs": [],
   "source": [
    "import pandas as pd\n",
    "import numpy as np\n",
    "import matplotlib.pyplot as plt\n",
    "import seaborn as sns\n",
    "%matplotlib inline"
   ]
  },
  {
   "cell_type": "markdown",
   "id": "49b68904",
   "metadata": {},
   "source": [
    "#  Project Objective\n",
    "Investigate whether there is any measurable difference in progress based on the eligibility category. There are three options:\n",
    "*Preliminary Analysis*\n",
    "+ Developmental evaluation (delay)\n",
    "+ Diagnosed condition\n",
    "+ Diagnosed condition, developmental evaluation (by both delay and diagnosis)\n",
    "1. Start by looking at overall progress by eligibility category (column AI of the \"Elig Timeline Rpt 2018-2022\" tab)\n",
    "2. Factor in the time of service (\"ECO with Exit-21-22\" tab)\n",
    "3. Do the above comparison by POE as well (column A of the \"ECO with Exit21-22\")\n",
    "*Additional Analysis*\n",
    "Additional areas you can look into are listed below:\n",
    "+ Does typical time of service differ for different eligibility categories?\n"
   ]
  },
  {
   "cell_type": "code",
   "execution_count": null,
   "id": "b4e997f5",
   "metadata": {},
   "outputs": [],
   "source": [
    "teis = pd.ExcelFile(\"../Data/TEIS_NSS_Project_Data_10_2022.xlsx\")\n",
    "eco_21_22_exit = pd.read_excel(teis, 'ECO with Exit21-22', nrows=8633)\n",
    "elig = pd.read_excel(teis, 'Elig Timeline Rpt 2018-2022', nrows=67611)"
   ]
  },
  {
   "cell_type": "code",
   "execution_count": null,
   "id": "8e528531",
   "metadata": {},
   "outputs": [],
   "source": [
    "eco_21_22_exit[\"CHILD_ID\"] = eco_21_22_exit[\"CHILD_ID\"].fillna(0).apply(np.int64)\n",
    "eco_21_22_exit"
   ]
  },
  {
   "cell_type": "code",
   "execution_count": null,
   "id": "44c3d3fd",
   "metadata": {},
   "outputs": [],
   "source": [
    "print(elig['Init. Elig. Category'].value_counts()['Developmental Evaluation'])"
   ]
  },
  {
   "cell_type": "code",
   "execution_count": null,
   "id": "34106151",
   "metadata": {},
   "outputs": [],
   "source": [
    "print(elig['Init. Elig. Category'].value_counts()['Diagnosed Condition'])"
   ]
  },
  {
   "cell_type": "code",
   "execution_count": null,
   "id": "2aeb89a6",
   "metadata": {},
   "outputs": [],
   "source": [
    "print(elig['Init. Elig. Category'].value_counts()['Diagnosed Condition, Developmental Evaluation'])"
   ]
  },
  {
   "cell_type": "code",
   "execution_count": null,
   "id": "7a4b089c",
   "metadata": {},
   "outputs": [],
   "source": [
    "elig = elig[['District', 'Child ID', 'Init. Elig. Category']]"
   ]
  },
  {
   "cell_type": "code",
   "execution_count": null,
   "id": "ea0b4b6b",
   "metadata": {},
   "outputs": [],
   "source": [
    "eco_21_22_exit = eco_21_22_exit[['DISTRICT', 'CHILD_ID', 'ECO_Entry_DATE', 'Ent SOCIAL_SCALE', 'Ent KNOWLEDGE_SCALE', 'Ent APPROPRIATE_ACTION_SCALE', 'ECO_Exit_DATE', 'Exit SOCIAL_SCALE', 'Exit KNOWLEDGE_SCALE', 'Exit APPROPRIATE_ACTION_SCALE']]"
   ]
  },
  {
   "cell_type": "code",
   "execution_count": null,
   "id": "20bd8f3f",
   "metadata": {},
   "outputs": [],
   "source": [
    "elig.rename(columns = {'District':'DISTRICT', 'Child ID':'CHILD_ID'}, inplace = True)"
   ]
  },
  {
   "cell_type": "code",
   "execution_count": null,
   "id": "47a8129d",
   "metadata": {},
   "outputs": [],
   "source": [
    "eco_exit_elig = pd.merge(elig, eco_21_22_exit, how=\"inner\", on=[\"DISTRICT\", \"CHILD_ID\"])"
   ]
  },
  {
   "cell_type": "code",
   "execution_count": null,
   "id": "c5a7bbd6",
   "metadata": {},
   "outputs": [],
   "source": [
    "eco_exit_elig"
   ]
  },
  {
   "cell_type": "markdown",
   "id": "08f68915",
   "metadata": {},
   "source": [
    "Subtracted entry score from exit score to gauge progress"
   ]
  },
  {
   "cell_type": "code",
   "execution_count": null,
   "id": "fb74c2a5",
   "metadata": {},
   "outputs": [],
   "source": [
    "eco_exit_elig['SOCIAL SCALE PROGRESS'] = eco_exit_elig['Exit SOCIAL_SCALE'] - eco_exit_elig['Ent SOCIAL_SCALE']\n",
    "eco_exit_elig"
   ]
  },
  {
   "cell_type": "code",
   "execution_count": null,
   "id": "83f1c9c1",
   "metadata": {},
   "outputs": [],
   "source": [
    "eco_exit_elig['KNOWLEDGE SCALE PROGRESS'] = eco_exit_elig['Exit KNOWLEDGE_SCALE'] - eco_exit_elig['Ent KNOWLEDGE_SCALE']"
   ]
  },
  {
   "cell_type": "code",
   "execution_count": null,
   "id": "f3c5cb53",
   "metadata": {},
   "outputs": [],
   "source": [
    "eco_exit_elig['APPROPRIATE ACTION PROGRESS'] = eco_exit_elig['Exit APPROPRIATE_ACTION_SCALE'] - eco_exit_elig['Ent APPROPRIATE_ACTION_SCALE']"
   ]
  },
  {
   "cell_type": "code",
   "execution_count": null,
   "id": "15210bf6",
   "metadata": {},
   "outputs": [],
   "source": [
    "eco_exit_elig"
   ]
  },
  {
   "cell_type": "code",
   "execution_count": null,
   "id": "04c67bed",
   "metadata": {},
   "outputs": [],
   "source": [
    "eco_exit_elig= eco_exit_elig.drop(['Ent SOCIAL_SCALE', 'Ent KNOWLEDGE_SCALE', 'Ent APPROPRIATE_ACTION_SCALE', 'Exit SOCIAL_SCALE', 'Exit KNOWLEDGE_SCALE', 'Exit APPROPRIATE_ACTION_SCALE'], axis=1)"
   ]
  },
  {
   "cell_type": "markdown",
   "id": "d7acc539",
   "metadata": {},
   "source": [
    "Found total number of days"
   ]
  },
  {
   "cell_type": "code",
   "execution_count": null,
   "id": "8d8f8772",
   "metadata": {},
   "outputs": [],
   "source": [
    "eco_exit_elig['TOTAL DAYS'] = (eco_exit_elig['ECO_Exit_DATE'] - eco_exit_elig['ECO_Entry_DATE']) / np.timedelta64(1, 'D')"
   ]
  },
  {
   "cell_type": "code",
   "execution_count": null,
   "id": "6a19b2f0",
   "metadata": {},
   "outputs": [],
   "source": [
    "eco_exit_elig"
   ]
  },
  {
   "cell_type": "markdown",
   "id": "f1e64100",
   "metadata": {},
   "source": [
    "Filtered out cases where total time was less than 6 months"
   ]
  },
  {
   "cell_type": "code",
   "execution_count": null,
   "id": "e8850151",
   "metadata": {},
   "outputs": [],
   "source": [
    "eco_exit_elig=eco_exit_elig[eco_exit_elig['TOTAL DAYS']>=180]"
   ]
  },
  {
   "cell_type": "code",
   "execution_count": null,
   "id": "ba622fcf",
   "metadata": {},
   "outputs": [],
   "source": [
    "eco_exit_elig"
   ]
  },
  {
   "cell_type": "markdown",
   "id": "fa4bb724",
   "metadata": {},
   "source": [
    "Created new dataframes for Developmental Evaluation, Diagnosed Conditions, and Both"
   ]
  },
  {
   "cell_type": "code",
   "execution_count": null,
   "id": "fce73662",
   "metadata": {},
   "outputs": [],
   "source": [
    "dev_eval=eco_exit_elig[eco_exit_elig['Init. Elig. Category']=='Developmental Evaluation']"
   ]
  },
  {
   "cell_type": "code",
   "execution_count": null,
   "id": "c3db3475",
   "metadata": {},
   "outputs": [],
   "source": [
    "dev_eval"
   ]
  },
  {
   "cell_type": "code",
   "execution_count": null,
   "id": "8ce08781",
   "metadata": {},
   "outputs": [],
   "source": [
    "diag_cond=eco_exit_elig[eco_exit_elig['Init. Elig. Category']=='Diagnosed Condition']"
   ]
  },
  {
   "cell_type": "code",
   "execution_count": null,
   "id": "b8f2e74f",
   "metadata": {},
   "outputs": [],
   "source": [
    "diag_cond"
   ]
  },
  {
   "cell_type": "code",
   "execution_count": null,
   "id": "fe9399ce",
   "metadata": {},
   "outputs": [],
   "source": [
    "dev_diag=eco_exit_elig[eco_exit_elig['Init. Elig. Category']=='Diagnosed Condition, Developmental Evaluation']"
   ]
  },
  {
   "cell_type": "code",
   "execution_count": null,
   "id": "4bc0f2d3",
   "metadata": {},
   "outputs": [],
   "source": [
    "dev_diag"
   ]
  },
  {
   "cell_type": "code",
   "execution_count": null,
   "id": "a4e12b7d",
   "metadata": {},
   "outputs": [],
   "source": [
    "dev_eval[[\"SOCIAL SCALE PROGRESS\",\"KNOWLEDGE SCALE PROGRESS\", \"APPROPRIATE ACTION PROGRESS\", \"TOTAL DAYS\"]].mean()"
   ]
  },
  {
   "cell_type": "code",
   "execution_count": null,
   "id": "34c40972",
   "metadata": {},
   "outputs": [],
   "source": [
    "diag_cond[[\"SOCIAL SCALE PROGRESS\",\"KNOWLEDGE SCALE PROGRESS\", \"APPROPRIATE ACTION PROGRESS\", \"TOTAL DAYS\"]].mean()"
   ]
  },
  {
   "cell_type": "code",
   "execution_count": null,
   "id": "40af5bb2",
   "metadata": {},
   "outputs": [],
   "source": [
    "dev_diag[[\"SOCIAL SCALE PROGRESS\",\"KNOWLEDGE SCALE PROGRESS\", \"APPROPRIATE ACTION PROGRESS\", \"TOTAL DAYS\"]].mean()"
   ]
  },
  {
   "cell_type": "code",
   "execution_count": null,
   "id": "43c089d3",
   "metadata": {},
   "outputs": [],
   "source": [
    "eco_exit_elig"
   ]
  },
  {
   "cell_type": "code",
   "execution_count": null,
   "id": "9629ff92",
   "metadata": {},
   "outputs": [],
   "source": [
    "eco_exit_elig.DISTRICT.unique()"
   ]
  },
  {
   "cell_type": "code",
   "execution_count": null,
   "id": "a9db220d",
   "metadata": {},
   "outputs": [],
   "source": [
    "ET = eco_exit_elig[eco_exit_elig['DISTRICT']=='ET']\n",
    "FT = eco_exit_elig[eco_exit_elig['DISTRICT']=='FT']\n",
    "GN = eco_exit_elig[eco_exit_elig['DISTRICT']=='GN']\n",
    "MD = eco_exit_elig[eco_exit_elig['DISTRICT']=='MD']\n",
    "NW = eco_exit_elig[eco_exit_elig['DISTRICT']=='NW']\n",
    "SC = eco_exit_elig[eco_exit_elig['DISTRICT']=='SC']\n",
    "SW = eco_exit_elig[eco_exit_elig['DISTRICT']=='SW']\n",
    "UC = eco_exit_elig[eco_exit_elig['DISTRICT']=='UC']"
   ]
  },
  {
   "cell_type": "code",
   "execution_count": null,
   "id": "26ea5b2e",
   "metadata": {},
   "outputs": [],
   "source": [
    "ET[[\"SOCIAL SCALE PROGRESS\",\"KNOWLEDGE SCALE PROGRESS\", \"APPROPRIATE ACTION PROGRESS\", \"TOTAL DAYS\"]].mean()"
   ]
  },
  {
   "cell_type": "code",
   "execution_count": null,
   "id": "993f359e",
   "metadata": {},
   "outputs": [],
   "source": [
    "FT[[\"SOCIAL SCALE PROGRESS\",\"KNOWLEDGE SCALE PROGRESS\", \"APPROPRIATE ACTION PROGRESS\", \"TOTAL DAYS\"]].mean()"
   ]
  },
  {
   "cell_type": "code",
   "execution_count": null,
   "id": "7b55280b",
   "metadata": {},
   "outputs": [],
   "source": [
    "GN[[\"SOCIAL SCALE PROGRESS\",\"KNOWLEDGE SCALE PROGRESS\", \"APPROPRIATE ACTION PROGRESS\", \"TOTAL DAYS\"]].mean()"
   ]
  },
  {
   "cell_type": "code",
   "execution_count": null,
   "id": "4dabce14",
   "metadata": {},
   "outputs": [],
   "source": [
    "MD[[\"SOCIAL SCALE PROGRESS\",\"KNOWLEDGE SCALE PROGRESS\", \"APPROPRIATE ACTION PROGRESS\", \"TOTAL DAYS\"]].mean()"
   ]
  },
  {
   "cell_type": "code",
   "execution_count": null,
   "id": "c699d53e",
   "metadata": {},
   "outputs": [],
   "source": [
    "NW[[\"SOCIAL SCALE PROGRESS\",\"KNOWLEDGE SCALE PROGRESS\", \"APPROPRIATE ACTION PROGRESS\", \"TOTAL DAYS\"]].mean()"
   ]
  },
  {
   "cell_type": "code",
   "execution_count": null,
   "id": "8b60dfad",
   "metadata": {},
   "outputs": [],
   "source": [
    "SC[[\"SOCIAL SCALE PROGRESS\",\"KNOWLEDGE SCALE PROGRESS\", \"APPROPRIATE ACTION PROGRESS\", \"TOTAL DAYS\"]].mean()"
   ]
  },
  {
   "cell_type": "code",
   "execution_count": null,
   "id": "9d3fe71f",
   "metadata": {},
   "outputs": [],
   "source": [
    "SW[[\"SOCIAL SCALE PROGRESS\",\"KNOWLEDGE SCALE PROGRESS\", \"APPROPRIATE ACTION PROGRESS\", \"TOTAL DAYS\"]].mean()"
   ]
  },
  {
   "cell_type": "code",
   "execution_count": null,
   "id": "abb17b11",
   "metadata": {},
   "outputs": [],
   "source": [
    "UC[[\"SOCIAL SCALE PROGRESS\",\"KNOWLEDGE SCALE PROGRESS\", \"APPROPRIATE ACTION PROGRESS\", \"TOTAL DAYS\"]].mean()"
   ]
  },
  {
   "cell_type": "code",
   "execution_count": null,
   "id": "2feac219",
   "metadata": {},
   "outputs": [],
   "source": []
  }
 ],
 "metadata": {
  "kernelspec": {
   "display_name": "Python 3",
   "language": "python",
   "name": "python3"
  },
  "language_info": {
   "codemirror_mode": {
    "name": "ipython",
    "version": 3
   },
   "file_extension": ".py",
   "mimetype": "text/x-python",
   "name": "python",
   "nbconvert_exporter": "python",
   "pygments_lexer": "ipython3",
   "version": "3.8.8"
  }
 },
 "nbformat": 4,
 "nbformat_minor": 5
}
