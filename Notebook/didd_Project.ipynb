{
 "cells": [
  {
   "cell_type": "code",
   "execution_count": null,
   "id": "dc59958c",
   "metadata": {},
   "outputs": [],
   "source": [
    "import pandas as pd\n",
    "import numpy as np\n",
    "import matplotlib.pyplot as plt\n",
    "import seaborn as sns\n",
    "%matplotlib inline"
   ]
  },
  {
   "cell_type": "markdown",
   "id": "1d768bc1",
   "metadata": {},
   "source": [
    "#  Project Objective\n",
    "Investigate whether there is any measurable difference in progress based on the eligibility category. There are three options:\n",
    "*Preliminary Analysis*\n",
    "+ Developmental evaluation (delay)\n",
    "+ Diagnosed condition\n",
    "+ Diagnosed condition, developmental evaluation (by both delay and diagnosis)\n",
    "1. Start by looking at overall progress by eligibility category (column AI of the \"Elig Timeline Rpt 2018-2022\" tab)\n",
    "2. Factor in the time of service (\"ECO with Exit-21-22\" tab)\n",
    "3. Do the above comparison by POE as well (column A of the \"ECO with Exit21-22\")\n",
    "*Additional Analysis*\n",
    "Additional areas you can look into are listed below:\n",
    "+ Does typical time of service differ for different eligibility categories?\n"
   ]
  },
  {
   "cell_type": "code",
   "execution_count": null,
   "id": "2c64bf3c",
   "metadata": {},
   "outputs": [],
   "source": [
    "teis = pd.ExcelFile(\"../Data/TEIS_NSS_Project_Data_10_2022.xlsx\")\n",
    "eco_21_22_exit = pd.read_excel(teis, 'ECO with Exit21-22', nrows=8633)\n",
    "elig = pd.read_excel(teis, 'Elig Timeline Rpt 2018-2022', nrows=67611)"
   ]
  },
  {
   "cell_type": "code",
   "execution_count": null,
   "id": "21606cb4",
   "metadata": {},
   "outputs": [],
   "source": [
    "eco_21_22_exit[\"CHILD_ID\"] = eco_21_22_exit[\"CHILD_ID\"].fillna(0).apply(np.int64)\n",
    "eco_21_22_exit.info()"
   ]
  },
  {
   "cell_type": "code",
   "execution_count": null,
   "id": "49c611ed",
   "metadata": {},
   "outputs": [],
   "source": [
    "elig = elig[['Child ID', 'Init. Elig. Category']]"
   ]
  },
  {
   "cell_type": "code",
   "execution_count": null,
   "id": "0f79c74b",
   "metadata": {},
   "outputs": [],
   "source": [
    "eco_21_22_exit = eco_21_22_exit[['CHILD_ID', 'ECO_Entry_DATE', 'ECO_Exit_DATE', 'Exit Date', 'Days btw Initial and Exit', 'Days btw I-IFSP to Exit ECO']]"
   ]
  },
  {
   "cell_type": "code",
   "execution_count": null,
   "id": "a2758d00",
   "metadata": {},
   "outputs": [],
   "source": [
    "elig.rename(columns = {'Child ID':'CHILD_ID'}, inplace = True)"
   ]
  },
  {
   "cell_type": "code",
   "execution_count": null,
   "id": "306da2da",
   "metadata": {},
   "outputs": [],
   "source": [
    "eco_exit_elig = pd.merge(elig, eco_21_22_exit, how=\"inner\", on=[\"CHILD_ID\"])"
   ]
  },
  {
   "cell_type": "code",
   "execution_count": null,
   "id": "0830256e",
   "metadata": {},
   "outputs": [],
   "source": [
    "eco_exit_elig"
   ]
  },
  {
   "cell_type": "markdown",
   "id": "0780cd5a",
   "metadata": {},
   "source": [
    "Found total number of days"
   ]
  },
  {
   "cell_type": "code",
   "execution_count": null,
   "id": "ab826670",
   "metadata": {},
   "outputs": [],
   "source": [
    "eco_exit_elig['TOTAL DAYS IN ECO'] = (eco_exit_elig['ECO_Exit_DATE'] - eco_exit_elig['ECO_Entry_DATE']) / np.timedelta64(1, 'D')"
   ]
  },
  {
   "cell_type": "code",
   "execution_count": null,
   "id": "b4c4a2c1",
   "metadata": {},
   "outputs": [],
   "source": [
    "eco_exit_elig"
   ]
  },
  {
   "cell_type": "code",
   "execution_count": null,
   "id": "766ab124",
   "metadata": {},
   "outputs": [],
   "source": [
    "eco_exit_elig['ECO_ENTRY to Exit Date'] = (eco_exit_elig['Exit Date'] - eco_exit_elig['ECO_Entry_DATE']) / np.timedelta64(1, 'D')"
   ]
  },
  {
   "cell_type": "markdown",
   "id": "17a99c55",
   "metadata": {},
   "source": [
    "Filtered out cases where total time was less than 6 months"
   ]
  },
  {
   "cell_type": "code",
   "execution_count": null,
   "id": "8bbda43a",
   "metadata": {},
   "outputs": [],
   "source": [
    "eco_exit_elig=eco_exit_elig[eco_exit_elig['TOTAL DAYS IN ECO']>=183]\n",
    "eco_exit_elig=eco_exit_elig[eco_exit_elig['Days btw I-IFSP to Exit ECO']>=0]"
   ]
  },
  {
   "cell_type": "code",
   "execution_count": null,
   "id": "e7106c5d",
   "metadata": {},
   "outputs": [],
   "source": [
    "eco_exit_elig.info()"
   ]
  },
  {
   "cell_type": "code",
   "execution_count": null,
   "id": "2f96eb22",
   "metadata": {},
   "outputs": [],
   "source": [
    "avg_eco_exit_elig = eco_exit_elig.groupby('Init. Elig. Category', as_index=False)[\"Days btw Initial and Exit\", \"Days btw I-IFSP to Exit ECO\", \"TOTAL DAYS IN ECO\", \"ECO_ENTRY to Exit Date\"].mean()\n",
    "avg_eco_exit_elig"
   ]
  },
  {
   "cell_type": "code",
   "execution_count": null,
   "id": "5d73f0ee",
   "metadata": {},
   "outputs": [],
   "source": [
    "avg_tidy = avg_eco_exit_elig.melt(id_vars='Init. Elig. Category', var_name = 'Days Between')\n",
    "avg_tidy\n"
   ]
  },
  {
   "cell_type": "code",
   "execution_count": null,
   "id": "f7a8127b",
   "metadata": {},
   "outputs": [],
   "source": [
    "avg_tidy1 = avg_tidy.replace(regex={'Developmental Evaluation': 'D.V.', 'Diagnosed Condition': 'D.C.'})\n",
    "avg_tidy1"
   ]
  },
  {
   "cell_type": "code",
   "execution_count": null,
   "id": "ca1876ee",
   "metadata": {
    "scrolled": true
   },
   "outputs": [],
   "source": [
    "sns.barplot(data=avg_tidy1, x=\"Days Between\", y=\"value\", hue=\"Init. Elig. Category\")\n",
    "plt.tick_params(axis='both', which='major', labelsize=15)\n",
    "sns.set(rc = {'figure.figsize':(15, 5)})"
   ]
  },
  {
   "cell_type": "code",
   "execution_count": null,
   "id": "820e6d34",
   "metadata": {},
   "outputs": [],
   "source": [
    "avg_eco = sns.FacetGrid(avg_tidy1, col = 'Days Between')\n",
    "avg_eco.map(sns.barplot, \"Init. Elig. Category\", \"value\")\n",
    "avg_eco.set_titles(col_template=\"{col_name}\", row_template=\"{row_name}\")"
   ]
  },
  {
   "cell_type": "code",
   "execution_count": null,
   "id": "23c6e509",
   "metadata": {},
   "outputs": [],
   "source": []
  },
  {
   "cell_type": "code",
   "execution_count": null,
   "id": "a6d98245",
   "metadata": {},
   "outputs": [],
   "source": []
  }
 ],
 "metadata": {
  "kernelspec": {
   "display_name": "Python 3",
   "language": "python",
   "name": "python3"
  },
  "language_info": {
   "codemirror_mode": {
    "name": "ipython",
    "version": 3
   },
   "file_extension": ".py",
   "mimetype": "text/x-python",
   "name": "python",
   "nbconvert_exporter": "python",
   "pygments_lexer": "ipython3",
   "version": "3.8.8"
  }
 },
 "nbformat": 4,
 "nbformat_minor": 5
}
