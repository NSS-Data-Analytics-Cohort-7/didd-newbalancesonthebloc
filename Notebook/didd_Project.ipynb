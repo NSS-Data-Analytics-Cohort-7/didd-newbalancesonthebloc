{
 "cells": [
  {
   "cell_type": "code",
   "execution_count": null,
   "id": "825da363",
   "metadata": {},
   "outputs": [],
   "source": [
    "import pandas as pd\n",
    "import numpy as np\n",
    "import matplotlib.pyplot as plt\n",
    "import seaborn as sns\n",
    "%matplotlib inline"
   ]
  },
  {
   "cell_type": "markdown",
   "id": "419b7283",
   "metadata": {},
   "source": [
    "#  Project Objective\n",
    "Investigate whether there is any measurable difference in progress based on the eligibility category. There are three options:\n",
    "*Preliminary Analysis*\n",
    "+ Developmental evaluation (delay)\n",
    "+ Diagnosed condition\n",
    "+ Diagnosed condition, developmental evaluation (by both delay and diagnosis)\n",
    "1. Start by looking at overall progress by eligibility category (column AI of the \"Elig Timeline Rpt 2018-2022\" tab)\n",
    "2. Factor in the time of service (\"ECO with Exit-21-22\" tab)\n",
    "3. Do the above comparison by POE as well (column A of the \"ECO with Exit21-22\")\n",
    "*Additional Analysis*\n",
    "Additional areas you can look into are listed below:\n",
    "+ Does typical time of service differ for different eligibility categories?\n"
   ]
  },
  {
   "cell_type": "code",
   "execution_count": null,
   "id": "e0161d86",
   "metadata": {},
   "outputs": [],
   "source": [
    "teis = pd.ExcelFile(\"../Data/TEIS_NSS_Project_Data_10_2022.xlsx\")\n",
    "eco_21_22_exit = pd.read_excel(teis, 'ECO with Exit21-22', nrows=8633)\n",
    "elig = pd.read_excel(teis, 'Elig Timeline Rpt 2018-2022', nrows=67611)"
   ]
  },
  {
   "cell_type": "code",
   "execution_count": null,
   "id": "6a58eafa",
   "metadata": {},
   "outputs": [],
   "source": [
    "eco_21_22_exit[\"CHILD_ID\"] = eco_21_22_exit[\"CHILD_ID\"].fillna(0).apply(np.int64)\n",
    "eco_21_22_exit"
   ]
  },
  {
   "cell_type": "code",
   "execution_count": null,
   "id": "b37766b4",
   "metadata": {},
   "outputs": [],
   "source": [
    "print(elig['Init. Elig. Category'].value_counts()['Developmental Evaluation'])"
   ]
  },
  {
   "cell_type": "code",
   "execution_count": null,
   "id": "284c6ef2",
   "metadata": {},
   "outputs": [],
   "source": [
    "print(elig['Init. Elig. Category'].value_counts()['Diagnosed Condition'])"
   ]
  },
  {
   "cell_type": "code",
   "execution_count": null,
   "id": "8bb2168d",
   "metadata": {},
   "outputs": [],
   "source": [
    "print(elig['Init. Elig. Category'].value_counts()['Diagnosed Condition, Developmental Evaluation'])"
   ]
  },
  {
   "cell_type": "code",
   "execution_count": null,
   "id": "1958411f",
   "metadata": {},
   "outputs": [],
   "source": [
    "elig = elig[['Child ID', 'Init. Elig. Category']]"
   ]
  },
  {
   "cell_type": "code",
   "execution_count": null,
   "id": "38698b16",
   "metadata": {},
   "outputs": [],
   "source": [
    "eco_21_22_exit = eco_21_22_exit[['CHILD_ID', 'ECO_Entry_DATE', 'ECO_Exit_DATE', 'Exit Date', 'Days btw Initial and Exit', 'Days btw I-IFSP to Exit ECO']]"
   ]
  },
  {
   "cell_type": "code",
   "execution_count": null,
   "id": "6eb9148c",
   "metadata": {},
   "outputs": [],
   "source": [
    "elig.rename(columns = {'Child ID':'CHILD_ID'}, inplace = True)"
   ]
  },
  {
   "cell_type": "code",
   "execution_count": null,
   "id": "433bf602",
   "metadata": {},
   "outputs": [],
   "source": [
    "eco_exit_elig = pd.merge(elig, eco_21_22_exit, how=\"inner\", on=[\"CHILD_ID\"])"
   ]
  },
  {
   "cell_type": "code",
   "execution_count": null,
   "id": "c170d266",
   "metadata": {},
   "outputs": [],
   "source": [
    "eco_exit_elig"
   ]
  },
  {
   "cell_type": "markdown",
   "id": "fc97435c",
   "metadata": {},
   "source": [
    "Found total number of days"
   ]
  },
  {
   "cell_type": "code",
   "execution_count": null,
   "id": "d7ba79b2",
   "metadata": {},
   "outputs": [],
   "source": [
    "eco_exit_elig['TOTAL DAYS IN ECO'] = (eco_exit_elig['ECO_Exit_DATE'] - eco_exit_elig['ECO_Entry_DATE']) / np.timedelta64(1, 'D')"
   ]
  },
  {
   "cell_type": "code",
   "execution_count": null,
   "id": "010d938e",
   "metadata": {},
   "outputs": [],
   "source": [
    "eco_exit_elig"
   ]
  },
  {
   "cell_type": "code",
   "execution_count": null,
   "id": "73ebbb20",
   "metadata": {},
   "outputs": [],
   "source": [
    "eco_exit_elig['ECO_ENTRY to Exit Date'] = (eco_exit_elig['Exit Date'] - eco_exit_elig['ECO_Entry_DATE']) / np.timedelta64(1, 'D')"
   ]
  },
  {
   "cell_type": "markdown",
   "id": "45d5e992",
   "metadata": {},
   "source": [
    "Filtered out cases where total time was less than 6 months"
   ]
  },
  {
   "cell_type": "code",
   "execution_count": null,
   "id": "bfe7771e",
   "metadata": {},
   "outputs": [],
   "source": [
    "eco_exit_elig=eco_exit_elig[eco_exit_elig['TOTAL DAYS IN ECO']>=183]\n",
    "eco_exit_elig=eco_exit_elig[eco_exit_elig['Days btw I-IFSP to Exit ECO']>=0]"
   ]
  },
  {
   "cell_type": "code",
   "execution_count": null,
   "id": "5def598f",
   "metadata": {},
   "outputs": [],
   "source": [
    "eco_exit_elig"
   ]
  },
  {
   "cell_type": "code",
   "execution_count": null,
   "id": "80a28934",
   "metadata": {},
   "outputs": [],
   "source": [
    "eco_exit_elig.groupby('Init. Elig. Category', as_index=False)[\"Days btw Initial and Exit\", \"Days btw I-IFSP to Exit ECO\", \"TOTAL DAYS IN ECO\", \"ECO_ENTRY to Exit Date\"].mean()"
   ]
  },
  {
   "cell_type": "code",
   "execution_count": null,
   "id": "d4d22882",
   "metadata": {
    "scrolled": true
   },
   "outputs": [],
   "source": [
    "eco_grid = sns.FacetGrid(eco_exit_elig, col = 'Init. Elig. Category')\n",
    "eco_grid"
   ]
  },
  {
   "cell_type": "code",
   "execution_count": null,
   "id": "02e20ad3",
   "metadata": {},
   "outputs": [],
   "source": [
    "eco_grid.map(sns.histplot, \"Days btw Initial and Exit\")"
   ]
  },
  {
   "cell_type": "code",
   "execution_count": null,
   "id": "29cee993",
   "metadata": {},
   "outputs": [],
   "source": []
  },
  {
   "cell_type": "code",
   "execution_count": null,
   "id": "1da7a6f7",
   "metadata": {},
   "outputs": [],
   "source": []
  },
  {
   "cell_type": "code",
   "execution_count": null,
   "id": "5d158962",
   "metadata": {},
   "outputs": [],
   "source": []
  }
 ],
 "metadata": {
  "kernelspec": {
   "display_name": "Python 3",
   "language": "python",
   "name": "python3"
  },
  "language_info": {
   "codemirror_mode": {
    "name": "ipython",
    "version": 3
   },
   "file_extension": ".py",
   "mimetype": "text/x-python",
   "name": "python",
   "nbconvert_exporter": "python",
   "pygments_lexer": "ipython3",
   "version": "3.8.8"
  }
 },
 "nbformat": 4,
 "nbformat_minor": 5
}
