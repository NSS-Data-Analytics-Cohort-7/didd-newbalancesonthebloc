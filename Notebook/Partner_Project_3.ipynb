{
 "cells": [
  {
   "cell_type": "code",
   "execution_count": null,
   "id": "cb8c6573",
   "metadata": {},
   "outputs": [],
   "source": [
    "import pandas as pd\n",
    "import numpy as np\n",
    "import matplotlib.pyplot as plt\n",
    "import seaborn as sns\n",
    "\n",
    "%matplotlib inline"
   ]
  },
  {
   "cell_type": "code",
   "execution_count": null,
   "id": "5b7990ff",
   "metadata": {},
   "outputs": [],
   "source": [
    "# Access raw dataframe\n",
    "eco_21_22_exit = pd.read_excel(\"../Data/TEIS-NSS Project Data 10-2022.xlsx\", sheet_name=\"ECO with Exit21-22\")\n",
    "eco_21_22_exit.head()"
   ]
  },
  {
   "cell_type": "code",
   "execution_count": null,
   "id": "a0080f0b",
   "metadata": {},
   "outputs": [],
   "source": [
    "# Display columns in dataframe\n",
    "eco_21_22_exit.info()"
   ]
  },
  {
   "cell_type": "code",
   "execution_count": null,
   "id": "73d317bf",
   "metadata": {},
   "outputs": [],
   "source": [
    "# Access raw dataframe\n",
    "eco_21_22_data = pd.read_excel(\"../Data/TEIS-NSS Project Data 10-2022.xlsx\", sheet_name=\"Elig Timeline Rpt 2018-2022\")\n",
    "eco_21_22_data.head()"
   ]
  },
  {
   "cell_type": "code",
   "execution_count": null,
   "id": "6b75d565",
   "metadata": {
    "scrolled": true
   },
   "outputs": [],
   "source": [
    "# Display columns in dataframe\n",
    "eco_21_22_data.info()"
   ]
  },
  {
   "cell_type": "code",
   "execution_count": null,
   "id": "cf34920c",
   "metadata": {},
   "outputs": [],
   "source": [
    "# rename the columns ('CHILD_ID' > 'Child ID') so that i can join them later to the timeline data sheet\n",
    "eco_21_22_exit = eco_21_22_exit.rename(columns = {'CHILD_ID':'Child ID'})\n",
    "eco_21_22_exit.head()"
   ]
  },
  {
   "cell_type": "code",
   "execution_count": null,
   "id": "41ab5980",
   "metadata": {},
   "outputs": [],
   "source": [
    "# renaming the columns ('Init. Elig. Category') because the . does not work well when calling on it later\n",
    "\n",
    "eco_21_22_data = eco_21_22_data.rename(columns = {'Init. Elig. Category':'Init Elig Category'})\n",
    "eco_21_22_data.head()"
   ]
  },
  {
   "cell_type": "code",
   "execution_count": null,
   "id": "6eed9719",
   "metadata": {},
   "outputs": [],
   "source": [
    "# making a new dataframe out the information in the timeline sheet ('Elig Timeline Rpt 2018-2022')\n",
    "# that only has the two columns i am interested in\n",
    "\n",
    "eco_21_22_data = eco_21_22_data[['Child ID', 'Init Elig Category']]\n",
    "eco_21_22_data.head()"
   ]
  },
  {
   "cell_type": "code",
   "execution_count": null,
   "id": "fc9763cd",
   "metadata": {},
   "outputs": [],
   "source": [
    "# making a new dataframe with only the columns I am interested in in the eco sheet\n",
    "\n",
    "eco_21_22_exit = eco_21_22_exit[['Child ID', '<Calc> Entrance Age (months)', 'Days btw Initial and Exit', 'Days btw I-IFSP to Exit ECO']]\n",
    "eco_21_22_exit.head()\n",
    "\n",
    "#one bracket = series, two bracket = df."
   ]
  },
  {
   "cell_type": "code",
   "execution_count": null,
   "id": "54b3be99",
   "metadata": {},
   "outputs": [],
   "source": [
    "# renamed the age column to be easier to call in later on graphs\n",
    "\n",
    "eco_21_22_exit = eco_21_22_exit.rename(columns = {'<Calc> Entrance Age (months)':'Age'})\n",
    "eco_21_22_exit.head()"
   ]
  },
  {
   "cell_type": "code",
   "execution_count": null,
   "id": "5724d218",
   "metadata": {},
   "outputs": [],
   "source": [
    "eco_21_22_exit.info()"
   ]
  },
  {
   "cell_type": "code",
   "execution_count": null,
   "id": "d10a3a3a",
   "metadata": {},
   "outputs": [],
   "source": [
    "# making sure to exclude any data that's negative or not 6 at least 6 months\n",
    "\n",
    "eco_21_22_exit = eco_21_22_exit.loc[eco_21_22_exit['Days btw Initial and Exit'] >= 183]\n",
    "eco_21_22_exit = eco_21_22_exit.loc[eco_21_22_exit['Days btw I-IFSP to Exit ECO'] > 0]"
   ]
  },
  {
   "cell_type": "code",
   "execution_count": null,
   "id": "6e67d33a",
   "metadata": {},
   "outputs": [],
   "source": [
    "# checking the dataframe now to make sure it got rid of those\n",
    "\n",
    "eco_21_22_exit.info()"
   ]
  },
  {
   "cell_type": "code",
   "execution_count": null,
   "id": "e99e9d6c",
   "metadata": {},
   "outputs": [],
   "source": [
    "# now i am merging the two datafames together on child id\n",
    "\n",
    "combined_dataframe = eco_21_22_exit.merge(eco_21_22_data, how='inner', on='Child ID')\n",
    "combined_dataframe.head()"
   ]
  },
  {
   "cell_type": "code",
   "execution_count": null,
   "id": "b99eb2c4",
   "metadata": {},
   "outputs": [],
   "source": [
    "combined_dataframe.info()"
   ]
  },
  {
   "cell_type": "code",
   "execution_count": null,
   "id": "222d4ff3",
   "metadata": {},
   "outputs": [],
   "source": [
    "# i then thought it would be nice to look at the averages because the question wants to know time in program\n",
    "# based on eligibilty category; used a groupby function/call - you will get\n",
    "\n",
    "group_by_dataframe = combined_dataframe.groupby('Init Elig Category', as_index=False)['Init Elig Category'].value_counts()\n",
    "group_by_dataframe"
   ]
  },
  {
   "cell_type": "code",
   "execution_count": null,
   "id": "37289d72",
   "metadata": {},
   "outputs": [],
   "source": [
    "# wanted to make columns in the dataframe that also gave me the avg months in the program in case\n",
    "# that was interesting to see when making graphs - i also rounded it because i did"
   ]
  },
  {
   "cell_type": "code",
   "execution_count": null,
   "id": "f97b9873",
   "metadata": {},
   "outputs": [],
   "source": [
    "# adding the second column"
   ]
  },
  {
   "cell_type": "code",
   "execution_count": null,
   "id": "3b9bfd45",
   "metadata": {},
   "outputs": [],
   "source": [
    "# final column"
   ]
  },
  {
   "cell_type": "code",
   "execution_count": null,
   "id": "c1d9787e",
   "metadata": {},
   "outputs": [],
   "source": [
    "#Bar Chart and Plot Area Chart Of \"Count of Cases\""
   ]
  },
  {
   "cell_type": "code",
   "execution_count": null,
   "id": "83b0f541",
   "metadata": {},
   "outputs": [],
   "source": [
    "df = pd.DataFrame ({\n",
    "...     'Dev. Evaluation': [4065],\n",
    "...     'Dia. Condition': [666],\n",
    "...     'BOTH': [853],\n",
    "... }, index=pd.date_range(start='2018/01/01', end='2021/01/01',\n",
    "...  \n",
    "                        freq='M'))\n",
    "\n",
    ">>> ax = df.plot.area(title = 'Count of Cases by Init Elig Category', xlabel = 'Years', ylabel = 'Count of Cases')"
   ]
  },
  {
   "cell_type": "code",
   "execution_count": null,
   "id": "1f04a56d",
   "metadata": {},
   "outputs": [],
   "source": []
  },
  {
   "cell_type": "code",
   "execution_count": null,
   "id": "2a09456c",
   "metadata": {},
   "outputs": [],
   "source": []
  },
  {
   "cell_type": "code",
   "execution_count": null,
   "id": "27c7e23e",
   "metadata": {},
   "outputs": [],
   "source": [
    "data = [4065,666,853]\n",
    "plt.bar(['Dev. Evaluation','Dia. Condition','BOTH'], data)\n",
    "plt.xlabel('Init Elig Category')\n",
    "plt.ylabel('Count of Cases')\n",
    "plt.title('Count of Cases by Init Elig Category')\n",
    "plt.show()\n"
   ]
  },
  {
   "cell_type": "code",
   "execution_count": null,
   "id": "be1d0dd8",
   "metadata": {},
   "outputs": [],
   "source": []
  }
 ],
 "metadata": {
  "kernelspec": {
   "display_name": "Python 3 (ipykernel)",
   "language": "python",
   "name": "python3"
  },
  "language_info": {
   "codemirror_mode": {
    "name": "ipython",
    "version": 3
   },
   "file_extension": ".py",
   "mimetype": "text/x-python",
   "name": "python",
   "nbconvert_exporter": "python",
   "pygments_lexer": "ipython3",
   "version": "3.9.12"
  }
 },
 "nbformat": 4,
 "nbformat_minor": 5
}
