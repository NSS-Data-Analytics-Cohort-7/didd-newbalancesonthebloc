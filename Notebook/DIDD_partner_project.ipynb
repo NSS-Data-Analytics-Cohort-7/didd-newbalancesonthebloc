{
 "cells": [
  {
   "cell_type": "markdown",
   "id": "015fc63f",
   "metadata": {},
   "source": [
    "The data reported to the public is based on Early Childhood Outcomes (ECO) data, which is collected every six months in conjunction with the Individualized Family Service Plan (IFSP) review cycle and is measured on three outcomes. For each outcome a child is placed into 5 possible progress categories:\n",
    "1. Children who did not improve functioning\n",
    "2. Children who improved functioning, but not sufficient to move nearer to functioning comparable to same-aged peers\n",
    "3. Children who improved functioning to a level nearer to same-aged peers, but did not reach it\n",
    "4. Children who improved functioning to reach a level comparable to same-aged peers\n",
    "5. Children who maintained functioning at a level comparable to same-aged peers\n",
    "\n",
    "In the \"Summary Statements\" tab of the Excel Spreadsheet you have been provided, you can see the calculation for the overall count and percentage of children in each category for each outcome along with the percentage of children that substantially increased their rate of growth and percentage of children who were functioning within age expectation by outcome. These calculations are based on data contained in the \"ECO with Exit21-22\" tab.\n",
    "\n",
    "Your primary objective in this project is to investigate whether there is any measurable difference in progress based on the eligibility category. There are three options:\n",
    "* Developmental evaluation (delay)\n",
    "* Diagnosed condition\n",
    "* Diagnosed condition, developmental evaluation (by both delay and diagnosis)\n",
    "\n",
    "Start by looking at overall progress by eligibility category. This information is contained in column AI of the \"Elig Timeline Rpt 2018-2022\" tab. After looking at overall rates, factor in the time of service, which is contained in the \"ECO with Exit-21-22\" tab.\n",
    "\n",
    "Each child is associated with a Point of Entry (POE) office, as indicated in column A of the \"ECO with Exit21-22\" column. Do the above comparison by POE as well, similar to the calculations in the \"ECO by POE\" tab.\n",
    "\n",
    "After answering the above questions, additional areas you can look into are listed below: \n",
    "* Does typical time of service differ for different eligibility categories?\n",
    "* Do exit reasons vary by eligibility category? Do more children in one eligibility category age out compared to leaving for other reasons?\n",
    "* In the \"ECO with Exit21-22\" sheet, columns D, E, and F contain the entry ECO scores, and columns H, I, and J contain the exit scores. Analyze these scores by looking at the typical improvement seen for each entry rating compared to the time of service. For example, what percentage of children entering with a score of 1 also exit with a score of 1? How many improve to a 2 or a 3? How does this vary by time of service? "
   ]
  },
  {
   "cell_type": "code",
   "execution_count": null,
   "id": "ea8827ac",
   "metadata": {},
   "outputs": [],
   "source": [
    "import pandas as pd\n",
    "import numpy as np\n",
    "import matplotlib.pyplot as plt\n",
    "import seaborn as sns"
   ]
  },
  {
   "cell_type": "code",
   "execution_count": null,
   "id": "95eeae89",
   "metadata": {},
   "outputs": [],
   "source": []
  },
  {
   "cell_type": "code",
   "execution_count": null,
   "id": "90842bd4",
   "metadata": {},
   "outputs": [],
   "source": [
    "eco = pd.read_excel('../Data/TEIS_data.xlsx', sheet_name = 'ECO with Exit21-22')\n",
    "eco"
   ]
  },
  {
   "cell_type": "code",
   "execution_count": null,
   "id": "8311ac62",
   "metadata": {},
   "outputs": [],
   "source": [
    "elig = pd.read_excel('../Data/TEIS_data.xlsx', sheet_name = 'Elig Timeline Rpt 2018-2022')\n",
    "elig"
   ]
  },
  {
   "cell_type": "code",
   "execution_count": null,
   "id": "62abcac3",
   "metadata": {},
   "outputs": [],
   "source": [
    "elig.head()"
   ]
  },
  {
   "cell_type": "code",
   "execution_count": null,
   "id": "edae54c8",
   "metadata": {},
   "outputs": [],
   "source": [
    "eco.head()"
   ]
  },
  {
   "cell_type": "code",
   "execution_count": null,
   "id": "9fe67884",
   "metadata": {},
   "outputs": [],
   "source": [
    "elig['Init. Elig. Category'].value_counts()['Developmental Evaluation']"
   ]
  },
  {
   "cell_type": "code",
   "execution_count": null,
   "id": "89ff134a",
   "metadata": {},
   "outputs": [],
   "source": [
    "elig['Init. Elig. Category'].value_counts()['Diagnosed Condition']"
   ]
  },
  {
   "cell_type": "code",
   "execution_count": null,
   "id": "d27566e9",
   "metadata": {},
   "outputs": [],
   "source": [
    "elig['Init. Elig. Category'].value_counts()['Diagnosed Condition, Developmental Evaluation']"
   ]
  },
  {
   "cell_type": "code",
   "execution_count": null,
   "id": "dd2ddcb2",
   "metadata": {},
   "outputs": [],
   "source": [
    "elig.info"
   ]
  },
  {
   "cell_type": "code",
   "execution_count": null,
   "id": "012c300f",
   "metadata": {},
   "outputs": [],
   "source": [
    "elig['District'].value_counts()['ET']"
   ]
  },
  {
   "cell_type": "code",
   "execution_count": null,
   "id": "c1756dfe",
   "metadata": {},
   "outputs": [],
   "source": [
    "print(elig.dtypes)\n",
    "print(eco.dtypes)"
   ]
  },
  {
   "cell_type": "code",
   "execution_count": null,
   "id": "e3f6a3cc",
   "metadata": {},
   "outputs": [],
   "source": [
    "eco['CHILD_ID'] = eco['CHILD_ID'].fillna(0).astype(np.int64)\n",
    "eco"
   ]
  },
  {
   "cell_type": "code",
   "execution_count": null,
   "id": "49e184cf",
   "metadata": {},
   "outputs": [],
   "source": [
    "elig.rename(columns = {'Child ID':'CHILD_ID'}, inplace=True)\n",
    "eco_elig = pd.merge(elig, eco, on=['CHILD_ID'], how='outer')\n",
    "eco_elig"
   ]
  },
  {
   "cell_type": "code",
   "execution_count": null,
   "id": "09fb2db8",
   "metadata": {},
   "outputs": [],
   "source": []
  }
 ],
 "metadata": {
  "kernelspec": {
   "display_name": "Python 3 (ipykernel)",
   "language": "python",
   "name": "python3"
  },
  "language_info": {
   "codemirror_mode": {
    "name": "ipython",
    "version": 3
   },
   "file_extension": ".py",
   "mimetype": "text/x-python",
   "name": "python",
   "nbconvert_exporter": "python",
   "pygments_lexer": "ipython3",
   "version": "3.9.12"
  }
 },
 "nbformat": 4,
 "nbformat_minor": 5
}
