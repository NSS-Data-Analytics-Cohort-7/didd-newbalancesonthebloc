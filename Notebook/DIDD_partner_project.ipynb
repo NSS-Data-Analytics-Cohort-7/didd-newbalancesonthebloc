{
 "cells": [
  {
   "cell_type": "markdown",
   "id": "efcbc3dd",
   "metadata": {},
   "source": [
    "The data reported to the public is based on Early Childhood Outcomes (ECO) data, which is collected every six months in conjunction with the Individualized Family Service Plan (IFSP) review cycle and is measured on three outcomes. For each outcome a child is placed into 5 possible progress categories:\n",
    "1. Children who did not improve functioning\n",
    "2. Children who improved functioning, but not sufficient to move nearer to functioning comparable to same-aged peers\n",
    "3. Children who improved functioning to a level nearer to same-aged peers, but did not reach it\n",
    "4. Children who improved functioning to reach a level comparable to same-aged peers\n",
    "5. Children who maintained functioning at a level comparable to same-aged peers\n",
    "\n",
    "In the \"Summary Statements\" tab of the Excel Spreadsheet you have been provided, you can see the calculation for the overall count and percentage of children in each category for each outcome along with the percentage of children that substantially increased their rate of growth and percentage of children who were functioning within age expectation by outcome. These calculations are based on data contained in the \"ECO with Exit21-22\" tab.\n",
    "\n",
    "Your primary objective in this project is to investigate whether there is any measurable difference in progress based on the eligibility category. There are three options:\n",
    "* Developmental evaluation (delay)\n",
    "* Diagnosed condition\n",
    "* Diagnosed condition, developmental evaluation (by both delay and diagnosis)\n",
    "\n",
    "Start by looking at overall progress by eligibility category. This information is contained in column AI of the \"Elig Timeline Rpt 2018-2022\" tab. After looking at overall rates, factor in the time of service, which is contained in the \"ECO with Exit-21-22\" tab.\n",
    "\n",
    "Each child is associated with a Point of Entry (POE) office, as indicated in column A of the \"ECO with Exit21-22\" column. Do the above comparison by POE as well, similar to the calculations in the \"ECO by POE\" tab.\n",
    "\n",
    "After answering the above questions, additional areas you can look into are listed below: \n",
    "* Does typical time of service differ for different eligibility categories?\n",
    "* Do exit reasons vary by eligibility category? Do more children in one eligibility category age out compared to leaving for other reasons?\n",
    "* In the \"ECO with Exit21-22\" sheet, columns D, E, and F contain the entry ECO scores, and columns H, I, and J contain the exit scores. Analyze these scores by looking at the typical improvement seen for each entry rating compared to the time of service. For example, what percentage of children entering with a score of 1 also exit with a score of 1? How many improve to a 2 or a 3? How does this vary by time of service? "
   ]
  },
  {
   "cell_type": "code",
   "execution_count": null,
   "id": "b4bcff35",
   "metadata": {},
   "outputs": [],
   "source": [
    "import pandas as pd\n",
    "import numpy as np\n",
    "import matplotlib.pyplot as plt\n",
    "import seaborn as sns"
   ]
  },
  {
   "cell_type": "code",
   "execution_count": null,
   "id": "8b3b4ae1",
   "metadata": {},
   "outputs": [],
   "source": [
    "eco = pd.read_excel('../Data/TEIS_data.xlsx', sheet_name = 'ECO with Exit21-22')\n",
    "eco.head()"
   ]
  },
  {
   "cell_type": "code",
   "execution_count": null,
   "id": "b8ef7fa2",
   "metadata": {},
   "outputs": [],
   "source": [
    "elig = pd.read_excel('../Data/TEIS_data.xlsx', sheet_name = 'Elig Timeline Rpt 2018-2022')\n",
    "elig.head()"
   ]
  },
  {
   "cell_type": "code",
   "execution_count": 29,
   "id": "f8e456ba",
   "metadata": {},
   "outputs": [
    {
     "data": {
      "text/plain": [
       "Developmental Evaluation                         28317\n",
       "Diagnosed Condition, Developmental Evaluation     5298\n",
       "Diagnosed Condition                               4675\n",
       "Name: Init. Elig. Category, dtype: int64"
      ]
     },
     "execution_count": 29,
     "metadata": {},
     "output_type": "execute_result"
    }
   ],
   "source": [
    "elig['Init. Elig. Category'].value_counts()"
   ]
  },
  {
   "cell_type": "code",
   "execution_count": null,
   "id": "8dae33a7",
   "metadata": {},
   "outputs": [],
   "source": [
    "elig.info()"
   ]
  },
  {
   "cell_type": "code",
   "execution_count": 55,
   "id": "461628d8",
   "metadata": {},
   "outputs": [
    {
     "name": "stdout",
     "output_type": "stream",
     "text": [
      "<class 'pandas.core.frame.DataFrame'>\n",
      "RangeIndex: 8636 entries, 0 to 8635\n",
      "Data columns (total 60 columns):\n",
      " #   Column                                Non-Null Count  Dtype         \n",
      "---  ------                                --------------  -----         \n",
      " 0   DISTRICT                              8633 non-null   object        \n",
      " 1   CHILD_ID                              8636 non-null   float64       \n",
      " 2   ECO_Entry_DATE                        5721 non-null   datetime64[ns]\n",
      " 3   Ent SOCIAL_SCALE                      5721 non-null   float64       \n",
      " 4   Ent KNOWLEDGE_SCALE                   5721 non-null   float64       \n",
      " 5   Ent APPROPRIATE_ACTION_SCALE          5721 non-null   float64       \n",
      " 6   ECO_Exit_DATE                         5721 non-null   datetime64[ns]\n",
      " 7   Exit SOCIAL_SCALE                     5721 non-null   float64       \n",
      " 8   Exit KNOWLEDGE_SCALE                  5721 non-null   float64       \n",
      " 9   Exit APPROPRIATE_ACTION_SCALE         5721 non-null   float64       \n",
      " 10  ExitIS_SOCIAL_PROGRESS                5721 non-null   object        \n",
      " 11  ExitIS_KNOWLEDGE_PROGRESS             5721 non-null   object        \n",
      " 12  ExitIS_APPROPRIATE_ACTION_PROGRESS    5721 non-null   object        \n",
      " 13  Initial IFSP Date                     8632 non-null   datetime64[ns]\n",
      " 14  Exit Reason                           8632 non-null   object        \n",
      " 15  Exit Date                             8632 non-null   datetime64[ns]\n",
      " 16  <Lookup> Expected Rating              8632 non-null   object        \n",
      " 17  <Calc> Months in Program              8632 non-null   float64       \n",
      " 18  <Calc> Entrance Age (months)          8632 non-null   float64       \n",
      " 19  <Calc> Day count                      5721 non-null   float64       \n",
      " 20  <Calc> Month count                    5721 non-null   float64       \n",
      " 21  <Calc> Missing Entrance Date          2911 non-null   float64       \n",
      " 22  <Calc> Missing Exit Dates             2911 non-null   float64       \n",
      " 23  <Calc> Missing Both Ent & Exit Dates  2911 non-null   float64       \n",
      " 24  <Calc> Record Count                   8632 non-null   float64       \n",
      " 25  <Calc> Day count 182 days +           6806 non-null   float64       \n",
      " 26  <Calc> Exit Day cnt < 182 days        2501 non-null   float64       \n",
      " 27  OC1 Missing Exit Rating               2911 non-null   float64       \n",
      " 28  OC2 Missing Exit Rating               2911 non-null   float64       \n",
      " 29  OC3 Missing Exit Rating               2911 non-null   float64       \n",
      " 30  OC1 Not Expected                      481 non-null    float64       \n",
      " 31  OC2 Not Expected                      481 non-null    float64       \n",
      " 32  OC3 Not Expected                      481 non-null    float64       \n",
      " 33  <Calc> Day count less than 182        2501 non-null   float64       \n",
      " 34  OC1 Useable Data                      5595 non-null   float64       \n",
      " 35  OC2 Useable Data                      5595 non-null   float64       \n",
      " 36  OC3 Useable Data                      5595 non-null   float64       \n",
      " 37  Usable Data on at least one Outcome   5595 non-null   float64       \n",
      " 38  Usable Data on All 3 Outcomes         5595 non-null   float64       \n",
      " 39  OC1 - a                               20 non-null     float64       \n",
      " 40  OC1 - b                               1441 non-null   float64       \n",
      " 41  OC1 - c                               1414 non-null   float64       \n",
      " 42  OC1 - d                               1842 non-null   float64       \n",
      " 43  OC1 - e                               878 non-null    float64       \n",
      " 44  OC1 Data Check                        8632 non-null   float64       \n",
      " 45  OC2 - a                               29 non-null     float64       \n",
      " 46  OC2 - b                               2633 non-null   float64       \n",
      " 47  OC2 - c                               1016 non-null   float64       \n",
      " 48  OC2 - d                               1362 non-null   float64       \n",
      " 49  OC2 - e                               555 non-null    float64       \n",
      " 50  OC2 Data Check                        8632 non-null   float64       \n",
      " 51  OC3 - a                               14 non-null     float64       \n",
      " 52  OC3 - b                               1430 non-null   float64       \n",
      " 53  OC3 - c                               816 non-null    float64       \n",
      " 54  OC3 - d                               1760 non-null   float64       \n",
      " 55  OC3 - e                               1575 non-null   float64       \n",
      " 56  OC3 Data Check                        8632 non-null   float64       \n",
      " 57  Days btw Initial and Exit             8632 non-null   float64       \n",
      " 58  Days btw I-IFSP to Exit ECO           8632 non-null   float64       \n",
      " 59  Days btw I-IFSP to entry ECO          8632 non-null   float64       \n",
      "dtypes: datetime64[ns](4), float64(50), object(6)\n",
      "memory usage: 4.0+ MB\n"
     ]
    }
   ],
   "source": [
    "eco.info()"
   ]
  },
  {
   "cell_type": "code",
   "execution_count": null,
   "id": "02fc97e0",
   "metadata": {},
   "outputs": [],
   "source": [
    "elig.dtypes"
   ]
  },
  {
   "cell_type": "code",
   "execution_count": null,
   "id": "b26940f2",
   "metadata": {},
   "outputs": [],
   "source": [
    "eco.dtypes"
   ]
  },
  {
   "cell_type": "code",
   "execution_count": null,
   "id": "c3d67f2b",
   "metadata": {},
   "outputs": [],
   "source": [
    "eco['CHILD_ID'] = eco['CHILD_ID'].fillna(0)\n",
    "elig['CHILD_ID'] = elig['CHILD_ID'].astype('float64')"
   ]
  },
  {
   "cell_type": "code",
   "execution_count": 45,
   "id": "0076a821",
   "metadata": {
    "scrolled": true
   },
   "outputs": [],
   "source": [
    "elig.rename(columns = {'Child ID':'CHILD_ID', 'District': 'DISTRICT'}, inplace=True)"
   ]
  },
  {
   "cell_type": "code",
   "execution_count": 46,
   "id": "065fe8a6",
   "metadata": {},
   "outputs": [
    {
     "data": {
      "text/html": [
       "<div>\n",
       "<style scoped>\n",
       "    .dataframe tbody tr th:only-of-type {\n",
       "        vertical-align: middle;\n",
       "    }\n",
       "\n",
       "    .dataframe tbody tr th {\n",
       "        vertical-align: top;\n",
       "    }\n",
       "\n",
       "    .dataframe thead th {\n",
       "        text-align: right;\n",
       "    }\n",
       "</style>\n",
       "<table border=\"1\" class=\"dataframe\">\n",
       "  <thead>\n",
       "    <tr style=\"text-align: right;\">\n",
       "      <th></th>\n",
       "      <th>DISTRICT</th>\n",
       "      <th>CHILD_ID</th>\n",
       "      <th>Child Status</th>\n",
       "      <th>Child Phase</th>\n",
       "      <th>Init. IFSP Due Date</th>\n",
       "      <th>IFSP Due Date</th>\n",
       "      <th>IFSP Late Reason</th>\n",
       "      <th>Active Ref. Date</th>\n",
       "      <th>Parent Consent/Intake Date</th>\n",
       "      <th>Date Dev. Evaluator Rec'd. Ref.</th>\n",
       "      <th>...</th>\n",
       "      <th># Days Parent Consent to Dev. Eval.</th>\n",
       "      <th># Days Dev. Evaluator Assigned to Dev. Eval.</th>\n",
       "      <th>1st Date Requested to Receipt of Med. Records</th>\n",
       "      <th># Days Dev. Eval. to Elig. Det.</th>\n",
       "      <th># Days Ref. to Elig. Det.</th>\n",
       "      <th>Init. Elig. Decision</th>\n",
       "      <th>Init. Elig. Category</th>\n",
       "      <th>Init. Elig. Det. Date</th>\n",
       "      <th>Exit Date</th>\n",
       "      <th>Exit Reason</th>\n",
       "    </tr>\n",
       "  </thead>\n",
       "  <tbody>\n",
       "    <tr>\n",
       "      <th>0</th>\n",
       "      <td>ET</td>\n",
       "      <td>453926.0</td>\n",
       "      <td>Inactive</td>\n",
       "      <td>IFSP</td>\n",
       "      <td>2019-03-04</td>\n",
       "      <td>2019-03-27</td>\n",
       "      <td>System</td>\n",
       "      <td>2019-01-18</td>\n",
       "      <td>2019-02-04</td>\n",
       "      <td>2019-01-22 00:00:00</td>\n",
       "      <td>...</td>\n",
       "      <td>17.0</td>\n",
       "      <td>30.0</td>\n",
       "      <td>NaN</td>\n",
       "      <td>4.0</td>\n",
       "      <td>38.0</td>\n",
       "      <td>Eligible</td>\n",
       "      <td>Developmental Evaluation</td>\n",
       "      <td>2019-02-25</td>\n",
       "      <td>2020-01-11</td>\n",
       "      <td>618 - Part B eligible</td>\n",
       "    </tr>\n",
       "    <tr>\n",
       "      <th>1</th>\n",
       "      <td>ET</td>\n",
       "      <td>431729.0</td>\n",
       "      <td>Inactive</td>\n",
       "      <td>IFSP</td>\n",
       "      <td>2018-10-26</td>\n",
       "      <td>2018-10-26</td>\n",
       "      <td>NaN</td>\n",
       "      <td>2018-09-11</td>\n",
       "      <td>2018-09-25</td>\n",
       "      <td>2018-09-12 00:00:00</td>\n",
       "      <td>...</td>\n",
       "      <td>0.0</td>\n",
       "      <td>13.0</td>\n",
       "      <td>NaN</td>\n",
       "      <td>6.0</td>\n",
       "      <td>20.0</td>\n",
       "      <td>Eligible</td>\n",
       "      <td>Diagnosed Condition, Developmental Evaluation</td>\n",
       "      <td>2018-10-01</td>\n",
       "      <td>2020-12-11</td>\n",
       "      <td>618 - Part B eligibility not determined</td>\n",
       "    </tr>\n",
       "    <tr>\n",
       "      <th>2</th>\n",
       "      <td>ET</td>\n",
       "      <td>462474.0</td>\n",
       "      <td>Inactive</td>\n",
       "      <td>IFSP</td>\n",
       "      <td>2019-06-28</td>\n",
       "      <td>2019-06-14</td>\n",
       "      <td>NaN</td>\n",
       "      <td>2019-05-14</td>\n",
       "      <td>2019-05-30</td>\n",
       "      <td>2019-05-15 00:00:00</td>\n",
       "      <td>...</td>\n",
       "      <td>0.0</td>\n",
       "      <td>15.0</td>\n",
       "      <td>0.0</td>\n",
       "      <td>1.0</td>\n",
       "      <td>17.0</td>\n",
       "      <td>Eligible</td>\n",
       "      <td>Developmental Evaluation</td>\n",
       "      <td>2019-05-31</td>\n",
       "      <td>2020-11-12</td>\n",
       "      <td>618 - Part B eligibility not determined</td>\n",
       "    </tr>\n",
       "    <tr>\n",
       "      <th>3</th>\n",
       "      <td>ET</td>\n",
       "      <td>446841.0</td>\n",
       "      <td>Inactive</td>\n",
       "      <td>Eligibility</td>\n",
       "      <td>2018-11-23</td>\n",
       "      <td>NaT</td>\n",
       "      <td>NaN</td>\n",
       "      <td>2018-10-09</td>\n",
       "      <td>2018-10-25</td>\n",
       "      <td>2018-10-11 00:00:00</td>\n",
       "      <td>...</td>\n",
       "      <td>0.0</td>\n",
       "      <td>14.0</td>\n",
       "      <td>NaN</td>\n",
       "      <td>1.0</td>\n",
       "      <td>17.0</td>\n",
       "      <td>Eligible</td>\n",
       "      <td>Diagnosed Condition</td>\n",
       "      <td>2018-10-26</td>\n",
       "      <td>2020-08-12</td>\n",
       "      <td>Parent decline</td>\n",
       "    </tr>\n",
       "    <tr>\n",
       "      <th>4</th>\n",
       "      <td>ET</td>\n",
       "      <td>459629.0</td>\n",
       "      <td>Inactive</td>\n",
       "      <td>IFSP</td>\n",
       "      <td>2019-05-16</td>\n",
       "      <td>2019-04-24</td>\n",
       "      <td>NaN</td>\n",
       "      <td>2019-04-01</td>\n",
       "      <td>2019-04-10</td>\n",
       "      <td>2019-04-02 00:00:00</td>\n",
       "      <td>...</td>\n",
       "      <td>0.0</td>\n",
       "      <td>8.0</td>\n",
       "      <td>0.0</td>\n",
       "      <td>2.0</td>\n",
       "      <td>11.0</td>\n",
       "      <td>Eligible</td>\n",
       "      <td>Developmental Evaluation</td>\n",
       "      <td>2019-04-12</td>\n",
       "      <td>2019-09-26</td>\n",
       "      <td>618 - Parent withdraw</td>\n",
       "    </tr>\n",
       "  </tbody>\n",
       "</table>\n",
       "<p>5 rows × 38 columns</p>\n",
       "</div>"
      ],
      "text/plain": [
       "  DISTRICT  CHILD_ID Child Status  Child Phase Init. IFSP Due Date  \\\n",
       "0       ET  453926.0     Inactive         IFSP          2019-03-04   \n",
       "1       ET  431729.0     Inactive         IFSP          2018-10-26   \n",
       "2       ET  462474.0     Inactive         IFSP          2019-06-28   \n",
       "3       ET  446841.0     Inactive  Eligibility          2018-11-23   \n",
       "4       ET  459629.0     Inactive         IFSP          2019-05-16   \n",
       "\n",
       "  IFSP Due Date IFSP Late Reason Active Ref. Date Parent Consent/Intake Date  \\\n",
       "0    2019-03-27           System       2019-01-18                 2019-02-04   \n",
       "1    2018-10-26              NaN       2018-09-11                 2018-09-25   \n",
       "2    2019-06-14              NaN       2019-05-14                 2019-05-30   \n",
       "3           NaT              NaN       2018-10-09                 2018-10-25   \n",
       "4    2019-04-24              NaN       2019-04-01                 2019-04-10   \n",
       "\n",
       "  Date Dev. Evaluator Rec'd. Ref.  ... # Days Parent Consent to Dev. Eval.  \\\n",
       "0             2019-01-22 00:00:00  ...                                17.0   \n",
       "1             2018-09-12 00:00:00  ...                                 0.0   \n",
       "2             2019-05-15 00:00:00  ...                                 0.0   \n",
       "3             2018-10-11 00:00:00  ...                                 0.0   \n",
       "4             2019-04-02 00:00:00  ...                                 0.0   \n",
       "\n",
       "  # Days Dev. Evaluator Assigned to Dev. Eval.  \\\n",
       "0                                         30.0   \n",
       "1                                         13.0   \n",
       "2                                         15.0   \n",
       "3                                         14.0   \n",
       "4                                          8.0   \n",
       "\n",
       "  1st Date Requested to Receipt of Med. Records  \\\n",
       "0                                           NaN   \n",
       "1                                           NaN   \n",
       "2                                           0.0   \n",
       "3                                           NaN   \n",
       "4                                           0.0   \n",
       "\n",
       "  # Days Dev. Eval. to Elig. Det. # Days Ref. to Elig. Det.  \\\n",
       "0                             4.0                      38.0   \n",
       "1                             6.0                      20.0   \n",
       "2                             1.0                      17.0   \n",
       "3                             1.0                      17.0   \n",
       "4                             2.0                      11.0   \n",
       "\n",
       "  Init. Elig. Decision                           Init. Elig. Category  \\\n",
       "0             Eligible                       Developmental Evaluation   \n",
       "1             Eligible  Diagnosed Condition, Developmental Evaluation   \n",
       "2             Eligible                       Developmental Evaluation   \n",
       "3             Eligible                            Diagnosed Condition   \n",
       "4             Eligible                       Developmental Evaluation   \n",
       "\n",
       "  Init. Elig. Det. Date  Exit Date                              Exit Reason  \n",
       "0            2019-02-25 2020-01-11                    618 - Part B eligible  \n",
       "1            2018-10-01 2020-12-11  618 - Part B eligibility not determined  \n",
       "2            2019-05-31 2020-11-12  618 - Part B eligibility not determined  \n",
       "3            2018-10-26 2020-08-12                           Parent decline  \n",
       "4            2019-04-12 2019-09-26                    618 - Parent withdraw  \n",
       "\n",
       "[5 rows x 38 columns]"
      ]
     },
     "execution_count": 46,
     "metadata": {},
     "output_type": "execute_result"
    }
   ],
   "source": [
    "elig.head()"
   ]
  },
  {
   "cell_type": "code",
   "execution_count": 48,
   "id": "e77dc1ff",
   "metadata": {},
   "outputs": [
    {
     "data": {
      "text/html": [
       "<div>\n",
       "<style scoped>\n",
       "    .dataframe tbody tr th:only-of-type {\n",
       "        vertical-align: middle;\n",
       "    }\n",
       "\n",
       "    .dataframe tbody tr th {\n",
       "        vertical-align: top;\n",
       "    }\n",
       "\n",
       "    .dataframe thead th {\n",
       "        text-align: right;\n",
       "    }\n",
       "</style>\n",
       "<table border=\"1\" class=\"dataframe\">\n",
       "  <thead>\n",
       "    <tr style=\"text-align: right;\">\n",
       "      <th></th>\n",
       "      <th>DISTRICT</th>\n",
       "      <th>CHILD_ID</th>\n",
       "      <th>Ent SOCIAL_SCALE</th>\n",
       "      <th>Ent KNOWLEDGE_SCALE</th>\n",
       "      <th>Ent APPROPRIATE_ACTION_SCALE</th>\n",
       "      <th>Exit SOCIAL_SCALE</th>\n",
       "      <th>Exit KNOWLEDGE_SCALE</th>\n",
       "      <th>Exit APPROPRIATE_ACTION_SCALE</th>\n",
       "    </tr>\n",
       "  </thead>\n",
       "  <tbody>\n",
       "    <tr>\n",
       "      <th>0</th>\n",
       "      <td>ET</td>\n",
       "      <td>500335.0</td>\n",
       "      <td>5.0</td>\n",
       "      <td>3.0</td>\n",
       "      <td>4.0</td>\n",
       "      <td>6.0</td>\n",
       "      <td>3.0</td>\n",
       "      <td>4.0</td>\n",
       "    </tr>\n",
       "    <tr>\n",
       "      <th>1</th>\n",
       "      <td>ET</td>\n",
       "      <td>479453.0</td>\n",
       "      <td>7.0</td>\n",
       "      <td>7.0</td>\n",
       "      <td>7.0</td>\n",
       "      <td>7.0</td>\n",
       "      <td>7.0</td>\n",
       "      <td>7.0</td>\n",
       "    </tr>\n",
       "    <tr>\n",
       "      <th>2</th>\n",
       "      <td>ET</td>\n",
       "      <td>510663.0</td>\n",
       "      <td>NaN</td>\n",
       "      <td>NaN</td>\n",
       "      <td>NaN</td>\n",
       "      <td>NaN</td>\n",
       "      <td>NaN</td>\n",
       "      <td>NaN</td>\n",
       "    </tr>\n",
       "    <tr>\n",
       "      <th>3</th>\n",
       "      <td>ET</td>\n",
       "      <td>452482.0</td>\n",
       "      <td>2.0</td>\n",
       "      <td>3.0</td>\n",
       "      <td>3.0</td>\n",
       "      <td>5.0</td>\n",
       "      <td>3.0</td>\n",
       "      <td>5.0</td>\n",
       "    </tr>\n",
       "    <tr>\n",
       "      <th>4</th>\n",
       "      <td>ET</td>\n",
       "      <td>506507.0</td>\n",
       "      <td>NaN</td>\n",
       "      <td>NaN</td>\n",
       "      <td>NaN</td>\n",
       "      <td>NaN</td>\n",
       "      <td>NaN</td>\n",
       "      <td>NaN</td>\n",
       "    </tr>\n",
       "  </tbody>\n",
       "</table>\n",
       "</div>"
      ],
      "text/plain": [
       "  DISTRICT  CHILD_ID  Ent SOCIAL_SCALE  Ent KNOWLEDGE_SCALE  \\\n",
       "0       ET  500335.0               5.0                  3.0   \n",
       "1       ET  479453.0               7.0                  7.0   \n",
       "2       ET  510663.0               NaN                  NaN   \n",
       "3       ET  452482.0               2.0                  3.0   \n",
       "4       ET  506507.0               NaN                  NaN   \n",
       "\n",
       "   Ent APPROPRIATE_ACTION_SCALE  Exit SOCIAL_SCALE  Exit KNOWLEDGE_SCALE  \\\n",
       "0                           4.0                6.0                   3.0   \n",
       "1                           7.0                7.0                   7.0   \n",
       "2                           NaN                NaN                   NaN   \n",
       "3                           3.0                5.0                   3.0   \n",
       "4                           NaN                NaN                   NaN   \n",
       "\n",
       "   Exit APPROPRIATE_ACTION_SCALE  \n",
       "0                            4.0  \n",
       "1                            7.0  \n",
       "2                            NaN  \n",
       "3                            5.0  \n",
       "4                            NaN  "
      ]
     },
     "execution_count": 48,
     "metadata": {},
     "output_type": "execute_result"
    }
   ],
   "source": [
    "eco_essential = eco[['DISTRICT', 'CHILD_ID','Ent SOCIAL_SCALE', 'Ent KNOWLEDGE_SCALE', 'Ent APPROPRIATE_ACTION_SCALE', 'Exit SOCIAL_SCALE', 'Exit KNOWLEDGE_SCALE', 'Exit APPROPRIATE_ACTION_SCALE']]\n",
    "eco_essential.head()"
   ]
  },
  {
   "cell_type": "code",
   "execution_count": 27,
   "id": "e9149b25",
   "metadata": {},
   "outputs": [
    {
     "name": "stdout",
     "output_type": "stream",
     "text": [
      "<class 'pandas.core.frame.DataFrame'>\n",
      "RangeIndex: 8636 entries, 0 to 8635\n",
      "Data columns (total 7 columns):\n",
      " #   Column                         Non-Null Count  Dtype  \n",
      "---  ------                         --------------  -----  \n",
      " 0   CHILD_ID                       8636 non-null   float64\n",
      " 1   Ent SOCIAL_SCALE               5721 non-null   float64\n",
      " 2   Ent KNOWLEDGE_SCALE            5721 non-null   float64\n",
      " 3   Ent APPROPRIATE_ACTION_SCALE   5721 non-null   float64\n",
      " 4   Exit SOCIAL_SCALE              5721 non-null   float64\n",
      " 5   Exit KNOWLEDGE_SCALE           5721 non-null   float64\n",
      " 6   Exit APPROPRIATE_ACTION_SCALE  5721 non-null   float64\n",
      "dtypes: float64(7)\n",
      "memory usage: 472.4 KB\n"
     ]
    }
   ],
   "source": [
    "eco_essential.info()"
   ]
  },
  {
   "cell_type": "code",
   "execution_count": 47,
   "id": "9610ec29",
   "metadata": {},
   "outputs": [
    {
     "data": {
      "text/html": [
       "<div>\n",
       "<style scoped>\n",
       "    .dataframe tbody tr th:only-of-type {\n",
       "        vertical-align: middle;\n",
       "    }\n",
       "\n",
       "    .dataframe tbody tr th {\n",
       "        vertical-align: top;\n",
       "    }\n",
       "\n",
       "    .dataframe thead th {\n",
       "        text-align: right;\n",
       "    }\n",
       "</style>\n",
       "<table border=\"1\" class=\"dataframe\">\n",
       "  <thead>\n",
       "    <tr style=\"text-align: right;\">\n",
       "      <th></th>\n",
       "      <th>DISTRICT</th>\n",
       "      <th>CHILD_ID</th>\n",
       "      <th>Init. Elig. Category</th>\n",
       "    </tr>\n",
       "  </thead>\n",
       "  <tbody>\n",
       "    <tr>\n",
       "      <th>0</th>\n",
       "      <td>ET</td>\n",
       "      <td>453926.0</td>\n",
       "      <td>Developmental Evaluation</td>\n",
       "    </tr>\n",
       "    <tr>\n",
       "      <th>1</th>\n",
       "      <td>ET</td>\n",
       "      <td>431729.0</td>\n",
       "      <td>Diagnosed Condition, Developmental Evaluation</td>\n",
       "    </tr>\n",
       "    <tr>\n",
       "      <th>2</th>\n",
       "      <td>ET</td>\n",
       "      <td>462474.0</td>\n",
       "      <td>Developmental Evaluation</td>\n",
       "    </tr>\n",
       "    <tr>\n",
       "      <th>3</th>\n",
       "      <td>ET</td>\n",
       "      <td>446841.0</td>\n",
       "      <td>Diagnosed Condition</td>\n",
       "    </tr>\n",
       "    <tr>\n",
       "      <th>4</th>\n",
       "      <td>ET</td>\n",
       "      <td>459629.0</td>\n",
       "      <td>Developmental Evaluation</td>\n",
       "    </tr>\n",
       "  </tbody>\n",
       "</table>\n",
       "</div>"
      ],
      "text/plain": [
       "  DISTRICT  CHILD_ID                           Init. Elig. Category\n",
       "0       ET  453926.0                       Developmental Evaluation\n",
       "1       ET  431729.0  Diagnosed Condition, Developmental Evaluation\n",
       "2       ET  462474.0                       Developmental Evaluation\n",
       "3       ET  446841.0                            Diagnosed Condition\n",
       "4       ET  459629.0                       Developmental Evaluation"
      ]
     },
     "execution_count": 47,
     "metadata": {},
     "output_type": "execute_result"
    }
   ],
   "source": [
    "elig_essential = elig[['DISTRICT', 'CHILD_ID', 'Init. Elig. Category']]\n",
    "elig_essential.head()"
   ]
  },
  {
   "cell_type": "code",
   "execution_count": 25,
   "id": "8e75aa10",
   "metadata": {},
   "outputs": [
    {
     "name": "stdout",
     "output_type": "stream",
     "text": [
      "<class 'pandas.core.frame.DataFrame'>\n",
      "RangeIndex: 67610 entries, 0 to 67609\n",
      "Data columns (total 2 columns):\n",
      " #   Column                Non-Null Count  Dtype  \n",
      "---  ------                --------------  -----  \n",
      " 0   CHILD_ID              67610 non-null  float64\n",
      " 1   Init. Elig. Category  38290 non-null  object \n",
      "dtypes: float64(1), object(1)\n",
      "memory usage: 1.0+ MB\n"
     ]
    }
   ],
   "source": [
    "elig_essential.info()"
   ]
  },
  {
   "cell_type": "code",
   "execution_count": 49,
   "id": "ca695705",
   "metadata": {},
   "outputs": [
    {
     "data": {
      "text/html": [
       "<div>\n",
       "<style scoped>\n",
       "    .dataframe tbody tr th:only-of-type {\n",
       "        vertical-align: middle;\n",
       "    }\n",
       "\n",
       "    .dataframe tbody tr th {\n",
       "        vertical-align: top;\n",
       "    }\n",
       "\n",
       "    .dataframe thead th {\n",
       "        text-align: right;\n",
       "    }\n",
       "</style>\n",
       "<table border=\"1\" class=\"dataframe\">\n",
       "  <thead>\n",
       "    <tr style=\"text-align: right;\">\n",
       "      <th></th>\n",
       "      <th>DISTRICT</th>\n",
       "      <th>CHILD_ID</th>\n",
       "      <th>Init. Elig. Category</th>\n",
       "      <th>Ent SOCIAL_SCALE</th>\n",
       "      <th>Ent KNOWLEDGE_SCALE</th>\n",
       "      <th>Ent APPROPRIATE_ACTION_SCALE</th>\n",
       "      <th>Exit SOCIAL_SCALE</th>\n",
       "      <th>Exit KNOWLEDGE_SCALE</th>\n",
       "      <th>Exit APPROPRIATE_ACTION_SCALE</th>\n",
       "    </tr>\n",
       "  </thead>\n",
       "  <tbody>\n",
       "    <tr>\n",
       "      <th>0</th>\n",
       "      <td>ET</td>\n",
       "      <td>453926.0</td>\n",
       "      <td>Developmental Evaluation</td>\n",
       "      <td>NaN</td>\n",
       "      <td>NaN</td>\n",
       "      <td>NaN</td>\n",
       "      <td>NaN</td>\n",
       "      <td>NaN</td>\n",
       "      <td>NaN</td>\n",
       "    </tr>\n",
       "    <tr>\n",
       "      <th>1</th>\n",
       "      <td>ET</td>\n",
       "      <td>431729.0</td>\n",
       "      <td>Diagnosed Condition, Developmental Evaluation</td>\n",
       "      <td>NaN</td>\n",
       "      <td>NaN</td>\n",
       "      <td>NaN</td>\n",
       "      <td>NaN</td>\n",
       "      <td>NaN</td>\n",
       "      <td>NaN</td>\n",
       "    </tr>\n",
       "    <tr>\n",
       "      <th>2</th>\n",
       "      <td>ET</td>\n",
       "      <td>462474.0</td>\n",
       "      <td>Developmental Evaluation</td>\n",
       "      <td>NaN</td>\n",
       "      <td>NaN</td>\n",
       "      <td>NaN</td>\n",
       "      <td>NaN</td>\n",
       "      <td>NaN</td>\n",
       "      <td>NaN</td>\n",
       "    </tr>\n",
       "    <tr>\n",
       "      <th>3</th>\n",
       "      <td>ET</td>\n",
       "      <td>446841.0</td>\n",
       "      <td>Diagnosed Condition</td>\n",
       "      <td>NaN</td>\n",
       "      <td>NaN</td>\n",
       "      <td>NaN</td>\n",
       "      <td>NaN</td>\n",
       "      <td>NaN</td>\n",
       "      <td>NaN</td>\n",
       "    </tr>\n",
       "    <tr>\n",
       "      <th>4</th>\n",
       "      <td>ET</td>\n",
       "      <td>459629.0</td>\n",
       "      <td>Developmental Evaluation</td>\n",
       "      <td>NaN</td>\n",
       "      <td>NaN</td>\n",
       "      <td>NaN</td>\n",
       "      <td>NaN</td>\n",
       "      <td>NaN</td>\n",
       "      <td>NaN</td>\n",
       "    </tr>\n",
       "  </tbody>\n",
       "</table>\n",
       "</div>"
      ],
      "text/plain": [
       "  DISTRICT  CHILD_ID                           Init. Elig. Category  \\\n",
       "0       ET  453926.0                       Developmental Evaluation   \n",
       "1       ET  431729.0  Diagnosed Condition, Developmental Evaluation   \n",
       "2       ET  462474.0                       Developmental Evaluation   \n",
       "3       ET  446841.0                            Diagnosed Condition   \n",
       "4       ET  459629.0                       Developmental Evaluation   \n",
       "\n",
       "   Ent SOCIAL_SCALE  Ent KNOWLEDGE_SCALE  Ent APPROPRIATE_ACTION_SCALE  \\\n",
       "0               NaN                  NaN                           NaN   \n",
       "1               NaN                  NaN                           NaN   \n",
       "2               NaN                  NaN                           NaN   \n",
       "3               NaN                  NaN                           NaN   \n",
       "4               NaN                  NaN                           NaN   \n",
       "\n",
       "   Exit SOCIAL_SCALE  Exit KNOWLEDGE_SCALE  Exit APPROPRIATE_ACTION_SCALE  \n",
       "0                NaN                   NaN                            NaN  \n",
       "1                NaN                   NaN                            NaN  \n",
       "2                NaN                   NaN                            NaN  \n",
       "3                NaN                   NaN                            NaN  \n",
       "4                NaN                   NaN                            NaN  "
      ]
     },
     "execution_count": 49,
     "metadata": {},
     "output_type": "execute_result"
    }
   ],
   "source": [
    "essentials_1 = pd.merge(elig_essential, eco_essential, on=['CHILD_ID', 'DISTRICT'], how = 'outer')\n",
    "essentials_1.head()"
   ]
  },
  {
   "cell_type": "code",
   "execution_count": 50,
   "id": "2348ed06",
   "metadata": {},
   "outputs": [
    {
     "data": {
      "text/plain": [
       "DISTRICT                             3\n",
       "CHILD_ID                             0\n",
       "Init. Elig. Category             29333\n",
       "Ent SOCIAL_SCALE                 61902\n",
       "Ent KNOWLEDGE_SCALE              61902\n",
       "Ent APPROPRIATE_ACTION_SCALE     61902\n",
       "Exit SOCIAL_SCALE                61902\n",
       "Exit KNOWLEDGE_SCALE             61902\n",
       "Exit APPROPRIATE_ACTION_SCALE    61902\n",
       "dtype: int64"
      ]
     },
     "execution_count": 50,
     "metadata": {},
     "output_type": "execute_result"
    }
   ],
   "source": [
    "essentials_1.isna().sum()"
   ]
  },
  {
   "cell_type": "code",
   "execution_count": 51,
   "id": "933b6879",
   "metadata": {},
   "outputs": [
    {
     "data": {
      "text/plain": [
       "Developmental Evaluation                         28317\n",
       "Diagnosed Condition, Developmental Evaluation     5298\n",
       "Diagnosed Condition                               4675\n",
       "Name: Init. Elig. Category, dtype: int64"
      ]
     },
     "execution_count": 51,
     "metadata": {},
     "output_type": "execute_result"
    }
   ],
   "source": [
    "essentials_1['Init. Elig. Category'].value_counts()"
   ]
  },
  {
   "cell_type": "code",
   "execution_count": 52,
   "id": "7963af84",
   "metadata": {},
   "outputs": [
    {
     "name": "stdout",
     "output_type": "stream",
     "text": [
      "<class 'pandas.core.frame.DataFrame'>\n",
      "Int64Index: 67623 entries, 0 to 67622\n",
      "Data columns (total 9 columns):\n",
      " #   Column                         Non-Null Count  Dtype  \n",
      "---  ------                         --------------  -----  \n",
      " 0   DISTRICT                       67620 non-null  object \n",
      " 1   CHILD_ID                       67623 non-null  float64\n",
      " 2   Init. Elig. Category           38290 non-null  object \n",
      " 3   Ent SOCIAL_SCALE               5721 non-null   float64\n",
      " 4   Ent KNOWLEDGE_SCALE            5721 non-null   float64\n",
      " 5   Ent APPROPRIATE_ACTION_SCALE   5721 non-null   float64\n",
      " 6   Exit SOCIAL_SCALE              5721 non-null   float64\n",
      " 7   Exit KNOWLEDGE_SCALE           5721 non-null   float64\n",
      " 8   Exit APPROPRIATE_ACTION_SCALE  5721 non-null   float64\n",
      "dtypes: float64(7), object(2)\n",
      "memory usage: 5.2+ MB\n"
     ]
    }
   ],
   "source": [
    "essentials_1.info()"
   ]
  },
  {
   "cell_type": "code",
   "execution_count": 56,
   "id": "4812db34",
   "metadata": {},
   "outputs": [
    {
     "data": {
      "text/plain": [
       "count    5721.000000\n",
       "mean        3.283167\n",
       "std         1.930219\n",
       "min         1.000000\n",
       "25%         2.000000\n",
       "50%         3.000000\n",
       "75%         5.000000\n",
       "max         7.000000\n",
       "Name: Ent SOCIAL_SCALE, dtype: float64"
      ]
     },
     "execution_count": 56,
     "metadata": {},
     "output_type": "execute_result"
    }
   ],
   "source": [
    "essentials_1['Ent SOCIAL_SCALE'].describe()"
   ]
  },
  {
   "cell_type": "code",
   "execution_count": 60,
   "id": "7da2156a",
   "metadata": {},
   "outputs": [
    {
     "data": {
      "text/plain": [
       "nan"
      ]
     },
     "execution_count": 60,
     "metadata": {},
     "output_type": "execute_result"
    }
   ],
   "source": [
    "essentials_1.loc[essentials_1['Init. Elig. Category'] == 'Developmental Condition'].mean()['Ent SOCIAL_SCALE']"
   ]
  },
  {
   "cell_type": "code",
   "execution_count": 59,
   "id": "a83e1939",
   "metadata": {},
   "outputs": [
    {
     "name": "stderr",
     "output_type": "stream",
     "text": [
      "/var/folders/46/zm0dtt4s22d760_6ml4_t_vr0000gn/T/ipykernel_23224/3401764074.py:1: FutureWarning: Dropping of nuisance columns in DataFrame reductions (with 'numeric_only=None') is deprecated; in a future version this will raise TypeError.  Select only valid columns before calling the reduction.\n",
      "  essentials_1.mean()['Ent SOCIAL_SCALE']\n"
     ]
    },
    {
     "data": {
      "text/plain": [
       "3.2831672784478236"
      ]
     },
     "execution_count": 59,
     "metadata": {},
     "output_type": "execute_result"
    }
   ],
   "source": [
    "essentials_1.mean()['Ent SOCIAL_SCALE']"
   ]
  },
  {
   "cell_type": "code",
   "execution_count": 61,
   "id": "75a85810",
   "metadata": {},
   "outputs": [],
   "source": [
    "essentials_drop = essentials_1.dropna()"
   ]
  },
  {
   "cell_type": "code",
   "execution_count": 62,
   "id": "d1236060",
   "metadata": {},
   "outputs": [
    {
     "name": "stdout",
     "output_type": "stream",
     "text": [
      "<class 'pandas.core.frame.DataFrame'>\n",
      "Int64Index: 5717 entries, 5 to 67600\n",
      "Data columns (total 9 columns):\n",
      " #   Column                         Non-Null Count  Dtype  \n",
      "---  ------                         --------------  -----  \n",
      " 0   DISTRICT                       5717 non-null   object \n",
      " 1   CHILD_ID                       5717 non-null   float64\n",
      " 2   Init. Elig. Category           5717 non-null   object \n",
      " 3   Ent SOCIAL_SCALE               5717 non-null   float64\n",
      " 4   Ent KNOWLEDGE_SCALE            5717 non-null   float64\n",
      " 5   Ent APPROPRIATE_ACTION_SCALE   5717 non-null   float64\n",
      " 6   Exit SOCIAL_SCALE              5717 non-null   float64\n",
      " 7   Exit KNOWLEDGE_SCALE           5717 non-null   float64\n",
      " 8   Exit APPROPRIATE_ACTION_SCALE  5717 non-null   float64\n",
      "dtypes: float64(7), object(2)\n",
      "memory usage: 446.6+ KB\n"
     ]
    }
   ],
   "source": [
    "essentials_drop.info()"
   ]
  },
  {
   "cell_type": "code",
   "execution_count": 63,
   "id": "083195c9",
   "metadata": {},
   "outputs": [
    {
     "data": {
      "text/plain": [
       "nan"
      ]
     },
     "execution_count": 63,
     "metadata": {},
     "output_type": "execute_result"
    }
   ],
   "source": [
    "essentials_drop.loc[essentials_drop['Init. Elig. Category'] == 'Developmental Condition'].mean()['Ent SOCIAL_SCALE']"
   ]
  },
  {
   "cell_type": "code",
   "execution_count": null,
   "id": "22e551c9",
   "metadata": {},
   "outputs": [],
   "source": []
  }
 ],
 "metadata": {
  "kernelspec": {
   "display_name": "Python 3 (ipykernel)",
   "language": "python",
   "name": "python3"
  },
  "language_info": {
   "codemirror_mode": {
    "name": "ipython",
    "version": 3
   },
   "file_extension": ".py",
   "mimetype": "text/x-python",
   "name": "python",
   "nbconvert_exporter": "python",
   "pygments_lexer": "ipython3",
   "version": "3.9.12"
  }
 },
 "nbformat": 4,
 "nbformat_minor": 5
}
