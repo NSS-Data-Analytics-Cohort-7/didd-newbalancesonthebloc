{
 "cells": [
  {
   "cell_type": "code",
   "execution_count": null,
   "id": "5774dd50",
   "metadata": {},
   "outputs": [],
   "source": [
    "import pandas as pd\n",
    "import numpy as np\n",
    "import matplotlib.pyplot as plt\n",
    "import seaborn as sns\n",
    "%matplotlib inline\n"
   ]
  },
  {
   "cell_type": "markdown",
   "id": "1472d8dc",
   "metadata": {},
   "source": [
    "#  Project Objective\n",
    "Investigate whether there is any measurable difference in progress based on the eligibility category. There are three options:\n",
    "*Preliminary Analysis*\n",
    "+ Developmental evaluation (delay)\n",
    "+ Diagnosed condition\n",
    "+ Diagnosed condition, developmental evaluation (by both delay and diagnosis)\n",
    "1. Start by looking at overall progress by eligibility category (column AI of the \"Elig Timeline Rpt 2018-2022\" tab)\n",
    "2. Factor in the time of service (\"ECO with Exit-21-22\" tab)\n",
    "3. Do the above comparison by POE as well (column A of the \"ECO with Exit21-22\")\n",
    "*Additional Analysis*\n",
    "Additional areas you can look into are listed below:\n",
    "+ Does typical time of service differ for different eligibility categories?\n",
    "+ Do exit reasons vary by eligibility category? Do more children in one eligibility category age out compared to leaving for other reasons?\n",
    "+ \"ECO with Exit21-22\" contains the entry ECO scores (columns D, E, and F) and exit scores (columns H, I, and J) Analyze these scores by looking at the typical improvement seen for each entry rating compared to the time of service. What percentage of children entering with a score of 1 also exit with a score of 1? How many improve to a 2 or a 3? How does this vary by time of service?"
   ]
  },
  {
   "cell_type": "code",
   "execution_count": null,
   "id": "f0b99367",
   "metadata": {},
   "outputs": [],
   "source": [
    "teis = pd.ExcelFile(\"../Data/TEIS_NSS_Project_Data_10_2022.xlsx\")\n",
    "eco = pd.read_excel(teis, 'ECO with Exit21-22', nrows=8633)\n",
    "elig = pd.read_excel(teis, 'Elig Timeline Rpt 2018-2022', nrows=67611)\n"
   ]
  },
  {
   "cell_type": "code",
   "execution_count": null,
   "id": "b2d52546",
   "metadata": {
    "scrolled": true
   },
   "outputs": [],
   "source": [
    "eco.head()"
   ]
  },
  {
   "cell_type": "code",
   "execution_count": null,
   "id": "46da29c6",
   "metadata": {},
   "outputs": [],
   "source": [
    "eco.info()"
   ]
  },
  {
   "cell_type": "code",
   "execution_count": null,
   "id": "9d1b947d",
   "metadata": {},
   "outputs": [],
   "source": [
    "elig.info()"
   ]
  },
  {
   "cell_type": "code",
   "execution_count": null,
   "id": "fe0a6da3",
   "metadata": {},
   "outputs": [],
   "source": [
    "elig.head()"
   ]
  },
  {
   "cell_type": "code",
   "execution_count": null,
   "id": "42d5ed78",
   "metadata": {},
   "outputs": [],
   "source": [
    "elig.dtypes"
   ]
  },
  {
   "cell_type": "code",
   "execution_count": null,
   "id": "baca4a87",
   "metadata": {},
   "outputs": [],
   "source": [
    "eco.dtypes"
   ]
  },
  {
   "cell_type": "code",
   "execution_count": null,
   "id": "e97064af",
   "metadata": {},
   "outputs": [],
   "source": [
    "eco[\"CHILD_ID\"] = eco[\"CHILD_ID\"].fillna(0).apply(np.int64)\n",
    "eco"
   ]
  },
  {
   "cell_type": "code",
   "execution_count": null,
   "id": "59240ca6",
   "metadata": {},
   "outputs": [],
   "source": [
    "print(elig['Init. Elig. Category'].value_counts()['Developmental Evaluation'])"
   ]
  },
  {
   "cell_type": "code",
   "execution_count": null,
   "id": "3c80d02a",
   "metadata": {},
   "outputs": [],
   "source": [
    "print(elig['Init. Elig. Category'].value_counts()['Diagnosed Condition'])"
   ]
  },
  {
   "cell_type": "code",
   "execution_count": null,
   "id": "e3167484",
   "metadata": {},
   "outputs": [],
   "source": [
    "print(elig['Init. Elig. Category'].value_counts()['Diagnosed Condition, Developmental Evaluation'])"
   ]
  },
  {
   "cell_type": "code",
   "execution_count": null,
   "id": "b7494d84",
   "metadata": {},
   "outputs": [],
   "source": [
    "elig = elig[['District', 'Child ID', 'Init. Elig. Category']]"
   ]
  },
  {
   "cell_type": "code",
   "execution_count": null,
   "id": "6d0741bf",
   "metadata": {},
   "outputs": [],
   "source": [
    "elig"
   ]
  },
  {
   "cell_type": "code",
   "execution_count": null,
   "id": "9235d2f2",
   "metadata": {},
   "outputs": [],
   "source": [
    "eco = eco[['DISTRICT', 'CHILD_ID', 'ECO_Entry_DATE', 'Ent SOCIAL_SCALE', 'Ent KNOWLEDGE_SCALE', 'Ent APPROPRIATE_ACTION_SCALE', 'ECO_Exit_DATE', 'Exit SOCIAL_SCALE', 'Exit KNOWLEDGE_SCALE', 'Exit APPROPRIATE_ACTION_SCALE']]"
   ]
  },
  {
   "cell_type": "code",
   "execution_count": null,
   "id": "07edfb80",
   "metadata": {},
   "outputs": [],
   "source": [
    "eco"
   ]
  },
  {
   "cell_type": "code",
   "execution_count": null,
   "id": "b64ba2e4",
   "metadata": {},
   "outputs": [],
   "source": [
    "elig.rename(columns = {'District':'DISTRICT', 'Child ID':'CHILD_ID'}, inplace = True)"
   ]
  },
  {
   "cell_type": "code",
   "execution_count": null,
   "id": "d9d030a6",
   "metadata": {},
   "outputs": [],
   "source": [
    "eco_elig = pd.merge(eco, elig, how=\"outer\", on=[\"DISTRICT\", \"CHILD_ID\"])"
   ]
  },
  {
   "cell_type": "code",
   "execution_count": null,
   "id": "4935ac6c",
   "metadata": {},
   "outputs": [],
   "source": [
    "eco_elig.head()"
   ]
  },
  {
   "cell_type": "code",
   "execution_count": null,
   "id": "98f147c4",
   "metadata": {},
   "outputs": [],
   "source": [
    "eco_elig.tail()"
   ]
  },
  {
   "cell_type": "code",
   "execution_count": null,
   "id": "0030ae18",
   "metadata": {},
   "outputs": [],
   "source": [
    "eco_elig.info()"
   ]
  },
  {
   "cell_type": "code",
   "execution_count": null,
   "id": "690ee86b",
   "metadata": {},
   "outputs": [],
   "source": []
  }
 ],
 "metadata": {
  "kernelspec": {
   "display_name": "Python 3",
   "language": "python",
   "name": "python3"
  },
  "language_info": {
   "codemirror_mode": {
    "name": "ipython",
    "version": 3
   },
   "file_extension": ".py",
   "mimetype": "text/x-python",
   "name": "python",
   "nbconvert_exporter": "python",
   "pygments_lexer": "ipython3",
   "version": "3.8.8"
  }
 },
 "nbformat": 4,
 "nbformat_minor": 5
}
