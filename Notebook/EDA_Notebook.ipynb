{
 "cells": [
  {
   "cell_type": "code",
   "execution_count": null,
   "id": "c63698ea",
   "metadata": {},
   "outputs": [],
   "source": [
    "import pandas as pd\n",
    "import numpy as np\n",
    "import matplotlib.pyplot as plt\n",
    "import seaborn as sns\n",
    "%matplotlib inline\n"
   ]
  },
  {
   "cell_type": "markdown",
   "id": "1a02d987",
   "metadata": {},
   "source": [
    "#  Project Objective\n",
    "Investigate whether there is any measurable difference in progress based on the eligibility category. There are three options:\n",
    "*Preliminary Analysis*\n",
    "+ Developmental evaluation (delay)\n",
    "+ Diagnosed condition\n",
    "+ Diagnosed condition, developmental evaluation (by both delay and diagnosis)\n",
    "1. Start by looking at overall progress by eligibility category (column AI of the \"Elig Timeline Rpt 2018-2022\" tab)\n",
    "2. Factor in the time of service (\"ECO with Exit-21-22\" tab)\n",
    "3. Do the above comparison by POE as well (column A of the \"ECO with Exit21-22\")\n",
    "*Additional Analysis*\n",
    "Additional areas you can look into are listed below:\n",
    "+ Does typical time of service differ for different eligibility categories?\n",
    "+ Do exit reasons vary by eligibility category? Do more children in one eligibility category age out compared to leaving for other reasons?\n",
    "+ \"ECO with Exit21-22\" contains the entry ECO scores (columns D, E, and F) and exit scores (columns H, I, and J) Analyze these scores by looking at the typical improvement seen for each entry rating compared to the time of service. What percentage of children entering with a score of 1 also exit with a score of 1? How many improve to a 2 or a 3? How does this vary by time of service?"
   ]
  },
  {
   "cell_type": "code",
   "execution_count": null,
   "id": "355e9422",
   "metadata": {},
   "outputs": [],
   "source": [
    "teis = pd.ExcelFile(\"../Data/TEIS_NSS_Project_Data_10_2022.xlsx\")\n",
    "eco = pd.read_excel(teis, 'ECO with Exit21-22')\n",
    "elig = pd.read_excel(teis, 'Elig Timeline Rpt 2018-2022')\n"
   ]
  },
  {
   "cell_type": "code",
   "execution_count": null,
   "id": "f1277429",
   "metadata": {
    "scrolled": true
   },
   "outputs": [],
   "source": [
    "eco.head()"
   ]
  },
  {
   "cell_type": "code",
   "execution_count": null,
   "id": "63750866",
   "metadata": {},
   "outputs": [],
   "source": [
    "eco.info()"
   ]
  },
  {
   "cell_type": "code",
   "execution_count": null,
   "id": "10bc507a",
   "metadata": {},
   "outputs": [],
   "source": [
    "elig.head()"
   ]
  },
  {
   "cell_type": "code",
   "execution_count": null,
   "id": "06f5416d",
   "metadata": {},
   "outputs": [],
   "source": [
    "elig.dtypes"
   ]
  },
  {
   "cell_type": "code",
   "execution_count": null,
   "id": "2792b6ef",
   "metadata": {},
   "outputs": [],
   "source": [
    "eco.dtypes"
   ]
  },
  {
   "cell_type": "code",
   "execution_count": null,
   "id": "57e9053a",
   "metadata": {},
   "outputs": [],
   "source": [
    "eco[\"CHILD_ID\"] = eco[\"CHILD_ID\"].apply(np.int64)"
   ]
  },
  {
   "cell_type": "code",
   "execution_count": null,
   "id": "20702c88",
   "metadata": {},
   "outputs": [],
   "source": [
    "print(elig['Init. Elig. Category'].value_counts()['Developmental Evaluation'])"
   ]
  },
  {
   "cell_type": "code",
   "execution_count": null,
   "id": "379f9c5a",
   "metadata": {},
   "outputs": [],
   "source": [
    "print(elig['Init. Elig. Category'].value_counts()['Diagnosed Condition'])"
   ]
  },
  {
   "cell_type": "code",
   "execution_count": null,
   "id": "524bb228",
   "metadata": {},
   "outputs": [],
   "source": [
    "print(elig['Init. Elig. Category'].value_counts()['Diagnosed Condition, Developmental Evaluation'])"
   ]
  },
  {
   "cell_type": "code",
   "execution_count": null,
   "id": "53cdb347",
   "metadata": {},
   "outputs": [],
   "source": []
  }
 ],
 "metadata": {
  "kernelspec": {
   "display_name": "Python 3",
   "language": "python",
   "name": "python3"
  },
  "language_info": {
   "codemirror_mode": {
    "name": "ipython",
    "version": 3
   },
   "file_extension": ".py",
   "mimetype": "text/x-python",
   "name": "python",
   "nbconvert_exporter": "python",
   "pygments_lexer": "ipython3",
   "version": "3.8.8"
  }
 },
 "nbformat": 4,
 "nbformat_minor": 5
}
