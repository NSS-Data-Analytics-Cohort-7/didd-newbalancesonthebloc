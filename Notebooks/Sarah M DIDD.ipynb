{
 "cells": [
  {
   "cell_type": "markdown",
   "id": "b2439b7b",
   "metadata": {},
   "source": [
    "### Project Objective\n",
    "\n",
    "Investigate whether there is any measurable difference in progress based on the eligibility category. \n",
    "There are three options: Preliminary Analysis\n",
    "\n",
    "+ Developmental evaluation (delay)\n",
    "+ Diagnosed condition\n",
    "+ Diagnosed condition, developmental evaluation (by both delay and diagnosis)\n",
    "\n",
    "1. Start by looking at overall progress by eligibility category (column AI of the \"Elig Timeline Rpt 2018-2022\" tab)\n",
    "2. Factor in the time of service (\"ECO with Exit-21-22\" tab)\n",
    "3. Do the above comparison by POE as well (column A of the \"ECO with Exit21-22\") Additional Analysis Additional areas you can look into are listed below:\n",
    "+ Does typical time of service differ for different eligibility categories?\n",
    "+ Do exit reasons vary by eligibility category? Do more children in one eligibility category age out compared to leaving for other reasons?\n",
    "+ \"ECO with Exit21-22\" contains the entry ECO scores (columns D, E, and F) and exit scores (columns H, I, and J) Analyze these scores by looking at the typical improvement seen for each entry rating compared to the time of service. What percentage of children entering with a score of 1 also exit with a score of 1? How many improve to a 2 or a 3? How does this vary by time of service?\n",
    "\n",
    "### Part 2\n",
    "\n",
    "Does typical time of service differ for different eligibility categories?"
   ]
  },
  {
   "cell_type": "code",
   "execution_count": null,
   "id": "a79df948",
   "metadata": {},
   "outputs": [],
   "source": [
    "import pandas as pd\n",
    "import numpy as np\n",
    "import matplotlib.pyplot as plt\n",
    "import seaborn as sns "
   ]
  },
  {
   "cell_type": "code",
   "execution_count": null,
   "id": "f8db3c9a",
   "metadata": {},
   "outputs": [],
   "source": [
    "%matplotlib inline"
   ]
  },
  {
   "cell_type": "code",
   "execution_count": null,
   "id": "21f16df9",
   "metadata": {},
   "outputs": [],
   "source": [
    "#reading in the data from the eco_exit sheet \n",
    "eco_21_22_exit = pd.read_excel(\"../Data/TEIS-NSS Project Data 10-2022.xlsx\", sheet_name=\"ECO with Exit21-22\", nrows=8632)\n",
    "eco_21_22_exit"
   ]
  },
  {
   "cell_type": "code",
   "execution_count": null,
   "id": "3a59624f",
   "metadata": {},
   "outputs": [],
   "source": [
    "#rename the columns so that i can join them later to the timeline data sheet\n",
    "eco_21_22_exit.rename(columns = {'CHILD_ID':'Child ID'}, inplace = True)\n",
    "eco_21_22_exit"
   ]
  },
  {
   "cell_type": "code",
   "execution_count": null,
   "id": "6212c0ef",
   "metadata": {},
   "outputs": [],
   "source": [
    "#reading in the second sheet we need to do the analysis\n",
    "eco_21_22_data = pd.read_excel(\"../Data/TEIS-NSS Project Data 10-2022.xlsx\", sheet_name=\"Elig Timeline Rpt 2018-2022\")\n",
    "eco_21_22_data"
   ]
  },
  {
   "cell_type": "code",
   "execution_count": null,
   "id": "2e62f9e0",
   "metadata": {},
   "outputs": [],
   "source": [
    "#renaming the columns because the . does not work well when calling on it later \n",
    "eco_21_22_data.rename(columns = {'Init. Elig. Category': 'Init_Elig_Cat'}, inplace=True)\n",
    "eco_21_22_data"
   ]
  },
  {
   "cell_type": "code",
   "execution_count": null,
   "id": "21b46f2b",
   "metadata": {},
   "outputs": [],
   "source": [
    "#making a new dataframe out the information in the timeline sheet that only has the two columns i am interested in \n",
    "df2_data = eco_21_22_data[['Child ID','Init_Elig_Cat']]\n",
    "df2_data"
   ]
  },
  {
   "cell_type": "code",
   "execution_count": null,
   "id": "4719a2f4",
   "metadata": {},
   "outputs": [],
   "source": [
    "#making a new dataframe with only the columns I am interested in in the eco sheet\n",
    "df1_exit = eco_21_22_exit[['Child ID','Days btw Initial and Exit', 'Days btw I-IFSP to Exit ECO', '<Calc> Entrance Age (months)']].dropna()\n",
    "df1_exit"
   ]
  },
  {
   "cell_type": "code",
   "execution_count": null,
   "id": "1f2812c5",
   "metadata": {},
   "outputs": [],
   "source": [
    "#renamed the age column to be easier to call in later on graphs\n",
    "df1_exit = df1_exit.rename(columns={'<Calc> Entrance Age (months)': 'Entrance Age'})\n",
    "df1_exit"
   ]
  },
  {
   "cell_type": "code",
   "execution_count": null,
   "id": "cf504eb5",
   "metadata": {},
   "outputs": [],
   "source": [
    "#makng sure to exclude any data that's negative or not 6 at least 6 months \n",
    "df1_exit = df1_exit.loc[(df1_exit['Days btw Initial and Exit']>=183)]\n",
    "df1_exit = df1_exit.loc[(df1_exit['Days btw I-IFSP to Exit ECO']>0)]"
   ]
  },
  {
   "cell_type": "code",
   "execution_count": null,
   "id": "2cd07626",
   "metadata": {},
   "outputs": [],
   "source": [
    "#checking the dataframe now to make sure it got reid of those \n",
    "df1_exit"
   ]
  },
  {
   "cell_type": "code",
   "execution_count": null,
   "id": "231975bb",
   "metadata": {},
   "outputs": [],
   "source": [
    "#now i am merging the two datafames together on child id\n",
    "df_merge1 = df2_data.merge(df1_exit, on = 'Child ID')\n",
    "df_merge1\n"
   ]
  },
  {
   "cell_type": "code",
   "execution_count": null,
   "id": "20fa4d70",
   "metadata": {},
   "outputs": [],
   "source": [
    "#i then thought it would be nice to look at the averages b/c the question wants to know time in program based on eligibilty category. Used a groupby function/call - you will get a warning - just ignore \n",
    "df1_merge_group = df_merge1.groupby('Init_Elig_Cat', as_index=False)['Days btw Initial and Exit','Days btw I-IFSP to Exit ECO', 'Entrance Age'].mean()\n",
    "df1_merge_group"
   ]
  },
  {
   "cell_type": "markdown",
   "id": "3f212520",
   "metadata": {},
   "source": [
    "<b> CALLOUT: <b>\n",
    "   + it's interesting the average age (by month) is all close to 3mo at the entrance/start into the program?"
   ]
  },
  {
   "cell_type": "code",
   "execution_count": null,
   "id": "be34ef75",
   "metadata": {},
   "outputs": [],
   "source": [
    "#wanted to make columns in the dataframe that also gave me the avg months in the program in case that was interesting to see when making graphs - i also rounded it because i didn't think the ling line of numbers was nice looking  \n",
    "df1_merge_group['Avg Months btw I and E'] = df1_merge_group['Days btw Initial and Exit']/30\n",
    "df1_merge_group.round()"
   ]
  },
  {
   "cell_type": "code",
   "execution_count": null,
   "id": "dae2a125",
   "metadata": {},
   "outputs": [],
   "source": [
    "#adding the second column \n",
    "df1_merge_group['Avg Months btw I-IFSP and E ECO'] = df1_merge_group['Days btw I-IFSP to Exit ECO']/30\n",
    "df1_merge_group.round()"
   ]
  },
  {
   "cell_type": "code",
   "execution_count": null,
   "id": "b35e6513",
   "metadata": {},
   "outputs": [],
   "source": [
    "#final column\n",
    "df1_merge_group = df1_merge_group.round()\n",
    "df1_merge_group"
   ]
  },
  {
   "cell_type": "code",
   "execution_count": null,
   "id": "f7377fc9",
   "metadata": {},
   "outputs": [],
   "source": []
  }
 ],
 "metadata": {
  "kernelspec": {
   "display_name": "Python 3 (ipykernel)",
   "language": "python",
   "name": "python3"
  },
  "language_info": {
   "codemirror_mode": {
    "name": "ipython",
    "version": 3
   },
   "file_extension": ".py",
   "mimetype": "text/x-python",
   "name": "python",
   "nbconvert_exporter": "python",
   "pygments_lexer": "ipython3",
   "version": "3.9.12"
  }
 },
 "nbformat": 4,
 "nbformat_minor": 5
}
