{
 "cells": [
  {
   "cell_type": "markdown",
   "id": "b2439b7b",
   "metadata": {},
   "source": [
    "### Project Objective\n",
    "\n",
    "Investigate whether there is any measurable difference in progress based on the eligibility category. \n",
    "There are three options: Preliminary Analysis\n",
    "\n",
    "+ Developmental evaluation (delay)\n",
    "+ Diagnosed condition\n",
    "+ Diagnosed condition, developmental evaluation (by both delay and diagnosis)\n",
    "\n",
    "1. Start by looking at overall progress by eligibility category (column AI of the \"Elig Timeline Rpt 2018-2022\" tab)\n",
    "2. Factor in the time of service (\"ECO with Exit-21-22\" tab)\n",
    "3. Do the above comparison by POE as well (column A of the \"ECO with Exit21-22\") Additional Analysis Additional areas you can look into are listed below:\n",
    "+ Does typical time of service differ for different eligibility categories?\n",
    "+ Do exit reasons vary by eligibility category? Do more children in one eligibility category age out compared to leaving for other reasons?\n",
    "+ \"ECO with Exit21-22\" contains the entry ECO scores (columns D, E, and F) and exit scores (columns H, I, and J) Analyze these scores by looking at the typical improvement seen for each entry rating compared to the time of service. What percentage of children entering with a score of 1 also exit with a score of 1? How many improve to a 2 or a 3? How does this vary by time of service?\n",
    "\n",
    "### Part 2\n",
    "\n",
    "Does typical time of service differ for different eligibility categories?"
   ]
  },
  {
   "cell_type": "code",
   "execution_count": null,
   "id": "a79df948",
   "metadata": {},
   "outputs": [],
   "source": [
    "import pandas as pd\n",
    "import numpy as np\n",
    "import matplotlib.pyplot as plt\n",
    "import seaborn as sns "
   ]
  },
  {
   "cell_type": "code",
   "execution_count": null,
   "id": "f8db3c9a",
   "metadata": {},
   "outputs": [],
   "source": [
    "%matplotlib inline"
   ]
  },
  {
   "cell_type": "code",
   "execution_count": null,
   "id": "21f16df9",
   "metadata": {},
   "outputs": [],
   "source": [
    "#reading in the data from the eco_exit sheet \n",
    "eco_21_22_exit = pd.read_excel(\"../Data/TEIS-NSS Project Data 10-2022.xlsx\", sheet_name=\"ECO with Exit21-22\", nrows=8632)\n",
    "eco_21_22_exit"
   ]
  },
  {
   "cell_type": "code",
   "execution_count": null,
   "id": "3a59624f",
   "metadata": {},
   "outputs": [],
   "source": [
    "#rename the columns so that i can join them later to the timeline data sheet\n",
    "eco_21_22_exit.rename(columns = {'CHILD_ID':'Child ID'}, inplace = True)\n",
    "eco_21_22_exit"
   ]
  },
  {
   "cell_type": "code",
   "execution_count": null,
   "id": "6212c0ef",
   "metadata": {},
   "outputs": [],
   "source": [
    "#reading in the second sheet we need to do the analysis\n",
    "eco_21_22_data = pd.read_excel(\"../Data/TEIS-NSS Project Data 10-2022.xlsx\", sheet_name=\"Elig Timeline Rpt 2018-2022\")\n",
    "eco_21_22_data"
   ]
  },
  {
   "cell_type": "code",
   "execution_count": null,
   "id": "2e62f9e0",
   "metadata": {},
   "outputs": [],
   "source": [
    "#renaming the columns because the . does not work well when calling on it later \n",
    "eco_21_22_data.rename(columns = {'Init. Elig. Category': 'Init_Elig_Cat'}, inplace=True)\n",
    "eco_21_22_data"
   ]
  },
  {
   "cell_type": "code",
   "execution_count": null,
   "id": "21b46f2b",
   "metadata": {},
   "outputs": [],
   "source": [
    "#making a new dataframe out the information in the timeline sheet that only has the two columns i am interested in \n",
    "df2_data = eco_21_22_data[['Child ID','Init_Elig_Cat']]\n",
    "df2_data"
   ]
  },
  {
   "cell_type": "code",
   "execution_count": null,
   "id": "4719a2f4",
   "metadata": {},
   "outputs": [],
   "source": [
    "#making a new dataframe with only the columns I am interested in in the eco sheet\n",
    "df1_exit = eco_21_22_exit[['Child ID','Days btw Initial and Exit', 'Days btw I-IFSP to Exit ECO', '<Calc> Entrance Age (months)']].dropna()\n",
    "df1_exit"
   ]
  },
  {
   "cell_type": "code",
   "execution_count": null,
   "id": "1f2812c5",
   "metadata": {},
   "outputs": [],
   "source": [
    "#renamed the age column to be easier to call in later on graphs\n",
    "df1_exit = df1_exit.rename(columns={'<Calc> Entrance Age (months)': 'Entrance Age'})\n",
    "df1_exit"
   ]
  },
  {
   "cell_type": "code",
   "execution_count": null,
   "id": "cf504eb5",
   "metadata": {},
   "outputs": [],
   "source": [
    "#makng sure to exclude any data that's negative or not 6 at least 6 months \n",
    "df1_exit = df1_exit.loc[(df1_exit['Days btw Initial and Exit']>=183)]\n",
    "df1_exit = df1_exit.loc[(df1_exit['Days btw I-IFSP to Exit ECO']>0)]"
   ]
  },
  {
   "cell_type": "code",
   "execution_count": null,
   "id": "2cd07626",
   "metadata": {},
   "outputs": [],
   "source": [
    "#checking the dataframe now to make sure it got reid of those \n",
    "df1_exit"
   ]
  },
  {
   "cell_type": "code",
   "execution_count": null,
   "id": "231975bb",
   "metadata": {},
   "outputs": [],
   "source": [
    "#now i am merging the two datafames together on child id\n",
    "df_merge1 = df2_data.merge(df1_exit, on = 'Child ID')\n",
    "df_merge1\n"
   ]
  },
  {
   "cell_type": "code",
   "execution_count": null,
   "id": "20fa4d70",
   "metadata": {},
   "outputs": [],
   "source": [
    "#i then thought it would be nice to look at the averages b/c the question wants to know time in program based on eligibilty category. Used a groupby function/call - you will get a warning - just ignore \n",
    "df1_merge_group = df_merge1.groupby('Init_Elig_Cat', as_index=False)['Days btw Initial and Exit','Days btw I-IFSP to Exit ECO', 'Entrance Age'].mean()\n",
    "df1_merge_group"
   ]
  },
  {
   "cell_type": "markdown",
   "id": "3f212520",
   "metadata": {},
   "source": [
    "<b> CALLOUT: <b>\n",
    "   + it's interesting the average age (by month) is all close to 3yr at the entrance/start into the program?"
   ]
  },
  {
   "cell_type": "code",
   "execution_count": null,
   "id": "be34ef75",
   "metadata": {},
   "outputs": [],
   "source": [
    "#wanted to make columns in the dataframe that also gave me the avg months in the program in case that was interesting to see when making graphs - i also rounded it because i didn't think the ling line of numbers was nice looking  \n",
    "df1_merge_group['Avg Months btw I and E'] = df1_merge_group['Days btw Initial and Exit']/30\n",
    "df1_merge_group.round()"
   ]
  },
  {
   "cell_type": "code",
   "execution_count": null,
   "id": "dae2a125",
   "metadata": {},
   "outputs": [],
   "source": [
    "#adding the second column \n",
    "df1_merge_group['Avg Months btw I-IFSP and E ECO'] = df1_merge_group['Days btw I-IFSP to Exit ECO']/30\n",
    "df1_merge_group.round()"
   ]
  },
  {
   "cell_type": "code",
   "execution_count": null,
   "id": "b35e6513",
   "metadata": {},
   "outputs": [],
   "source": [
    "#final column\n",
    "df1_merge_group = df1_merge_group.round()\n",
    "df1_merge_group"
   ]
  },
  {
   "cell_type": "code",
   "execution_count": null,
   "id": "f7377fc9",
   "metadata": {},
   "outputs": [],
   "source": [
    "#combines them together... \n",
    "#avg_tidy = df_merge1.melt(id_vars= '', var_name = '')\n",
    "#avg_tidy"
   ]
  },
  {
   "cell_type": "code",
   "execution_count": null,
   "id": "e4fa66b5",
   "metadata": {},
   "outputs": [],
   "source": [
    "#creating a new dataframe so i can try to make this plotly graph and not mess up anything \n",
    "moving_df1_merge_group = df1_merge_group.drop(columns = ['Days btw I-IFSP to Exit ECO', 'Entrance Age', 'Avg Months btw I and E', 'Avg Months btw I-IFSP and E ECO' ])\n",
    "moving_df1_merge_group"
   ]
  },
  {
   "cell_type": "code",
   "execution_count": null,
   "id": "3da66e5d",
   "metadata": {},
   "outputs": [],
   "source": [
    "df2 = moving_df1_merge_group\n",
    "df2"
   ]
  },
  {
   "cell_type": "code",
   "execution_count": null,
   "id": "61faca9a",
   "metadata": {},
   "outputs": [],
   "source": [
    "# # pump the breaks on plotly!!\n",
    "# # #trying out buttons \n",
    "# import plotly.graph_objects as px\n",
    "\n",
    "# # #reading the data\n",
    "# plot = px.Figure(df2=[px.Scatter(\n",
    "#         x=df2['Init_Elig_Cat'],\n",
    "#         y=df2['Days btw Initial and Exit'],\n",
    "#         mode='markers')\n",
    "#         ])\n",
    "\n",
    "# # #add dropdown \n",
    "# plot.update_layout(\n",
    "#             updatemenus=[\n",
    "#                 dict(\n",
    "#                     type=\"buttons\",\n",
    "#                     direction=\"left\",\n",
    "#                     buttons=list([\n",
    "#                         dict(\n",
    "#                             args=[\"type\", \"scatter\"],\n",
    "#                             label=\"Scatter Plot\",\n",
    "#                             method=\"restyle\"\n",
    "#                         ),\n",
    "#                         dict(\n",
    "#                             args=[\"type\", \"bar\"],\n",
    "#                             label=\"Bar Chart\",\n",
    "#                             method=\"restyle\"\n",
    "#                         )\n",
    "                        \n",
    "#                     ]),\n",
    "#                 ),\n",
    "                \n",
    "#             ]\n",
    "#  )\n",
    "\n",
    "# plot.show()\n"
   ]
  },
  {
   "cell_type": "code",
   "execution_count": null,
   "id": "8ae5ccca",
   "metadata": {},
   "outputs": [],
   "source": [
    "df2"
   ]
  },
  {
   "cell_type": "code",
   "execution_count": null,
   "id": "e78bdc5d",
   "metadata": {},
   "outputs": [],
   "source": [
    "\n",
    "import plotly.express as px\n",
    "\n",
    "data = {'children': ['Developmental Evaluation', 'Diagnosed Condition', 'Both'], \n",
    "        'number' : ['4065','666','853']}\n",
    "df = pd.DataFrame(data, columns = ['children', 'number'])\n",
    "print(df)\n",
    "\n",
    "\n",
    "\n"
   ]
  },
  {
   "cell_type": "code",
   "execution_count": null,
   "id": "8d8e5bc0",
   "metadata": {},
   "outputs": [],
   "source": [
    "df"
   ]
  },
  {
   "cell_type": "code",
   "execution_count": null,
   "id": "02fe2479",
   "metadata": {},
   "outputs": [],
   "source": [
    "fig = px.pie(df, values='number', names= 'children', title=\"Number of Children Per Category\")\n",
    "fig.update_traces(textposition = 'outside', textinfo = 'percent+label')\n",
    "fig.show()"
   ]
  },
  {
   "cell_type": "code",
   "execution_count": null,
   "id": "478cd1f0",
   "metadata": {
    "scrolled": true
   },
   "outputs": [],
   "source": [
    "# percent of children completing program (6+ months)\n",
    "\n",
    "children = ['Developmental Evaluation', 'Diagnosed Condition', 'Both']\n",
    "number = [4065,666,853]\n",
    "\n",
    "#seaborn color palette to plot pie chart \n",
    "colors = sns.color_palette('pastel')\n",
    "\n",
    "#creating pie chart using matplotlib\n",
    "plt.pie(number, colors=colors, autopct='%.0f%%')\n",
    "plt.title(\"Percent of Children Completing Program (6+ months)\")\n",
    "\n",
    "#adding a legend \n",
    "plt.legend(labels=children, loc='upper left',\n",
    "          bbox_to_anchor=(1,0.75), ncol=1)\n",
    "\n",
    "plt.show()\n"
   ]
  },
  {
   "cell_type": "code",
   "execution_count": null,
   "id": "c48647ba",
   "metadata": {},
   "outputs": [],
   "source": [
    "# percent of children referred to program \n",
    "\n",
    "children = ['Developmental Evaluation', 'Diagnosed Condition', 'Both']\n",
    "percent = [28317,5298,4675]\n",
    "\n",
    "#seaborn color palette to plot pie chart \n",
    "colors = sns.color_palette('pastel')\n",
    "\n",
    "#creating pie chart using matplotlib\n",
    "plt.pie(percent, colors=colors, autopct='%.0f%%')\n",
    "plt.title(\"Percent of Children Referred to Program\")\n",
    "\n",
    "#adding a legend \n",
    "plt.legend(labels=children, loc='upper left',\n",
    "          bbox_to_anchor=(1,0.75), ncol=1)\n",
    "\n",
    "plt.show()\n"
   ]
  },
  {
   "cell_type": "code",
   "execution_count": null,
   "id": "65552ea1",
   "metadata": {},
   "outputs": [],
   "source": [
    "# percent of children completed vs referred \n",
    "\n",
    "children = ['Developmental Evaluation', 'Diagnosed Condition', 'Both']\n",
    "percent = [0.14355334251509694, 0.12570781426953567, 0.18245989304812835]\n",
    "\n",
    "#seaborn color palette to plot pie chart \n",
    "colors = sns.color_palette('pastel')\n",
    "\n",
    "#creating pie chart using matplotlib\n",
    "plt.pie(percent, colors=colors, autopct='%.0f%%')\n",
    "plt.title(\"Percent of Children Referred vs Completed Per Category\")\n",
    "\n",
    "#adding a legend \n",
    "plt.legend(labels=children, loc='upper left',\n",
    "          bbox_to_anchor=(1,0.75), ncol=1)\n",
    "\n",
    "plt.show()"
   ]
  },
  {
   "cell_type": "code",
   "execution_count": null,
   "id": "362265c3",
   "metadata": {},
   "outputs": [],
   "source": []
  },
  {
   "cell_type": "code",
   "execution_count": null,
   "id": "3653842a",
   "metadata": {},
   "outputs": [],
   "source": [
    "# #scatter plot by groups \n",
    "\n",
    "# #data i am using \n",
    "# data = df_merge1\n",
    "\n",
    "\n",
    "# #creating plot \n",
    "# fig = plt.figure()\n",
    "# ax = fig.add_subplot(1,1,1 axis=\"1.0\")\n",
    "\n"
   ]
  },
  {
   "cell_type": "code",
   "execution_count": null,
   "id": "4fe209ca",
   "metadata": {},
   "outputs": [],
   "source": [
    "df_merge1"
   ]
  },
  {
   "cell_type": "code",
   "execution_count": null,
   "id": "78002863",
   "metadata": {},
   "outputs": [],
   "source": [
    "4065/28317*100\n"
   ]
  },
  {
   "cell_type": "code",
   "execution_count": null,
   "id": "f71e7d2d",
   "metadata": {},
   "outputs": [],
   "source": [
    "percent = [(4065/28317),(666/5298),(853/4675)]\n",
    "percent"
   ]
  },
  {
   "cell_type": "code",
   "execution_count": null,
   "id": "228fbe43",
   "metadata": {},
   "outputs": [],
   "source": [
    "data1 = {'Eligibility Category': ['Developmental Evaluation', 'Diagnosed Condition', 'Both'], \n",
    "        'Children Completed the Program' : [4065,666,853],\n",
    "        'Children Referred to Program' :[28317,5298,4675],\n",
    "         }\n",
    "df1 = pd.DataFrame(data1, columns = ['Eligibility Category', 'Children Completed the Program','Children Referred to Program'])\n",
    "print(df1)\n",
    "df1"
   ]
  },
  {
   "cell_type": "code",
   "execution_count": null,
   "id": "39e354ab",
   "metadata": {},
   "outputs": [],
   "source": [
    "df1"
   ]
  },
  {
   "cell_type": "code",
   "execution_count": null,
   "id": "c5278025",
   "metadata": {},
   "outputs": [],
   "source": [
    "#just doing some math so i can get the total completion instead of the % on total completion \n",
    "28317-4065, 5298-666, 4675-853\n"
   ]
  },
  {
   "cell_type": "code",
   "execution_count": null,
   "id": "d983d1a1",
   "metadata": {},
   "outputs": [],
   "source": [
    "df1.plot( x=\"Eligibility Category\", y=[\"Children Referred to Program\", \"Children Completed the Program\"], kind=\"bar\");\n",
    "plt.xticks(rotation=0, fontsize = 10)\n",
    "plt.xlabel('Eligibility Category', fontweight='bold')\n",
    "plt.ylabel('Number of Children', fontweight='bold')\n",
    "plt.title('Referred v Completed', fontweight='bold');"
   ]
  },
  {
   "cell_type": "code",
   "execution_count": null,
   "id": "77ceefed",
   "metadata": {},
   "outputs": [],
   "source": [
    "#adding lables to my bar chart \n",
    "\n",
    "labels =['Develeopmental Evaluation', 'Diagnosed Condition', 'Both']\n",
    "referred =[28317, 5298, 4675]\n",
    "completed =[4065, 666, 853]\n",
    "\n",
    "x =np.arange(len(labels)) #the label location\n",
    "width = 0.35 # the width of the bars\n",
    "\n",
    "\n",
    "#legend \n",
    "fig, ax = plt.subplots(figsize=(12,8))\n",
    "rects1 = ax.bar(x - width/2, referred, width, label='Number of Children Referred')\n",
    "rects2 = ax.bar( x + width/2, completed, width, label='Number of Children Completed')\n",
    "\n",
    "#adding text for labels, title and x-axis tick labels...\n",
    "ax.set_ylabel('Number of Children')\n",
    "ax.set_title('Referred v Completed')\n",
    "ax.set_xticks(x, labels)\n",
    "ax.legend()\n",
    "\n",
    "ax.bar_label(rects1, padding=3)\n",
    "ax.bar_label(rects2, padding=3)\n",
    "\n",
    "plt.show()"
   ]
  },
  {
   "cell_type": "code",
   "execution_count": null,
   "id": "5dcad023",
   "metadata": {},
   "outputs": [],
   "source": [
    "#seaborn plotting \n",
    "sns.set(style='white')\n",
    "\n",
    "#creating group bar chart\n",
    "sns.barplot(x='Eligibility Category', y='Children Referred to Program', data=df1);\n",
    "\n"
   ]
  },
  {
   "cell_type": "code",
   "execution_count": null,
   "id": "94439e40",
   "metadata": {},
   "outputs": [],
   "source": [
    "24525+4632+3822"
   ]
  },
  {
   "cell_type": "markdown",
   "id": "514ad949",
   "metadata": {},
   "source": [
    "notes:\n",
    "slide 3 drop pie chart \n",
    "slide 4 drop table - we can add data labels onto the bar if we really want to --  keep all of them in slide 4 for(time/days)\n",
    "slide 5 y axis - number of kids update, let's have the labels all match on the axis -- lets get all of them to be buckets (.head()) for 10\n",
    "slide 6 dev days, diag days, both days; OR drop first, and then keep middle bar cluster and last bar cluster - donn't need table \n",
    "slide 7 - sort values on bar chart from largest to smallest \n",
    "slide 8 - fix the titles, pick btw one or the other of the distributions of time \n",
    "\n",
    "can sort values "
   ]
  }
 ],
 "metadata": {
  "kernelspec": {
   "display_name": "Python 3 (ipykernel)",
   "language": "python",
   "name": "python3"
  },
  "language_info": {
   "codemirror_mode": {
    "name": "ipython",
    "version": 3
   },
   "file_extension": ".py",
   "mimetype": "text/x-python",
   "name": "python",
   "nbconvert_exporter": "python",
   "pygments_lexer": "ipython3",
   "version": "3.9.12"
  }
 },
 "nbformat": 4,
 "nbformat_minor": 5
}
