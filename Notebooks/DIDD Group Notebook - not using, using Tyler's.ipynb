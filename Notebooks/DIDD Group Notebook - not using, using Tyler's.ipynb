{
 "cells": [
  {
   "cell_type": "markdown",
   "id": "087ca287",
   "metadata": {},
   "source": [
    "# Project Objective\n",
    "Investigate whether there is any measurable difference in progress based on the eligibility category. There are three options:\n",
    "*Preliminary Analysis*\n",
    "+ Developmental evaluation (delay)\n",
    "+ Diagnosed condition\n",
    "+ Diagnosed condition, developmental evaluation (by both delay and diagnosis)\n",
    "1. Start by looking at overall progress by eligibility category (column AI of the \"Elig Timeline Rpt 2018-2022\" tab)\n",
    "2. Factor in the time of service (\"ECO with Exit-21-22\" tab)\n",
    "3. Do the above comparison by POE as well (column A of the \"ECO with Exit21-22\")\n",
    "*Additional Analysis*\n",
    "Additional areas you can look into are listed below:\n",
    "+ Does typical time of service differ for different eligibility categories?\n",
    "+ Do exit reasons vary by eligibility category? Do more children in one eligibility category age out compared to leaving for other reasons?\n",
    "+ \"ECO with Exit21-22\" contains the entry ECO scores (columns D, E, and F) and exit scores (columns H, I, and J) Analyze these scores by looking at the typical improvement seen for each entry rating compared to the time of service. What percentage of children entering with a score of 1 also exit with a score of 1? How many improve to a 2 or a 3? How does this vary by time of service?\n",
    "\n",
    "<b> Part 2 <b>\n",
    "    \n",
    "Does typical time of service differ for different eligibility categories?"
   ]
  },
  {
   "cell_type": "code",
   "execution_count": 7,
   "id": "57bcb242",
   "metadata": {},
   "outputs": [],
   "source": [
    "#group work below"
   ]
  },
  {
   "cell_type": "code",
   "execution_count": null,
   "id": "629f70de",
   "metadata": {},
   "outputs": [],
   "source": [
    "import pandas as pd\n",
    "import numpy as np\n",
    "import matplotlib.pyplot as plt\n",
    "import seaborn as sns "
   ]
  },
  {
   "cell_type": "code",
   "execution_count": null,
   "id": "83f027a6",
   "metadata": {},
   "outputs": [],
   "source": [
    "%matplotlib inline"
   ]
  },
  {
   "cell_type": "code",
   "execution_count": null,
   "id": "7543e138",
   "metadata": {},
   "outputs": [],
   "source": [
    "#naming convention: eco_21_22_exit\n",
    "eco_21_22_exit = pd.read_excel(\"../Data/TEIS-NSS Project Data 10-2022.xlsx\", sheet_name=\"ECO with Exit21-22\", nrows=8632)\n",
    "eco_21_22_exit"
   ]
  },
  {
   "cell_type": "code",
   "execution_count": null,
   "id": "e3e29fce",
   "metadata": {},
   "outputs": [],
   "source": [
    "#naming convention: eco_21_22_data\n",
    "eco_21_22_data = pd.read_excel(\"../Data/TEIS-NSS Project Data 10-2022.xlsx\", sheet_name=\"Elig Timeline Rpt 2018-2022\")\n",
    "eco_21_22_data"
   ]
  },
  {
   "cell_type": "markdown",
   "id": "ca89dc68",
   "metadata": {},
   "source": [
    "<b> #Questions we want to ask ourselves:<b>\n",
    "    \n",
    "which columns do we need for this specific question? \n",
    "\n",
    "Where do these columns live? \n",
    "\n",
    "How do we string them together?"
   ]
  },
  {
   "cell_type": "code",
   "execution_count": null,
   "id": "ce330cec",
   "metadata": {},
   "outputs": [],
   "source": [
    "#preston used BF and BG\n",
    "#matt used C and G (g-c)\n",
    "#sarah used R(months)"
   ]
  }
 ],
 "metadata": {
  "kernelspec": {
   "display_name": "Python 3 (ipykernel)",
   "language": "python",
   "name": "python3"
  },
  "language_info": {
   "codemirror_mode": {
    "name": "ipython",
    "version": 3
   },
   "file_extension": ".py",
   "mimetype": "text/x-python",
   "name": "python",
   "nbconvert_exporter": "python",
   "pygments_lexer": "ipython3",
   "version": "3.9.12"
  }
 },
 "nbformat": 4,
 "nbformat_minor": 5
}
