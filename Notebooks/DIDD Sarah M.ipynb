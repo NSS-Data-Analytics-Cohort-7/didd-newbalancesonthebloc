{
 "cells": [
  {
   "cell_type": "markdown",
   "id": "eebf13ba",
   "metadata": {},
   "source": [
    "# Project Objective\n",
    "Investigate whether there is any measurable difference in progress based on the eligibility category. There are three options:\n",
    "*Preliminary Analysis*\n",
    "+ Developmental evaluation (delay)\n",
    "+ Diagnosed condition\n",
    "+ Diagnosed condition, developmental evaluation (by both delay and diagnosis)\n",
    "1. Start by looking at overall progress by eligibility category (column AI of the \"Elig Timeline Rpt 2018-2022\" tab)\n",
    "2. Factor in the time of service (\"ECO with Exit-21-22\" tab)\n",
    "3. Do the above comparison by POE as well (column A of the \"ECO with Exit21-22\")\n",
    "*Additional Analysis*\n",
    "Additional areas you can look into are listed below:\n",
    "+ Does typical time of service differ for different eligibility categories?\n",
    "+ Do exit reasons vary by eligibility category? Do more children in one eligibility category age out compared to leaving for other reasons?\n",
    "+ \"ECO with Exit21-22\" contains the entry ECO scores (columns D, E, and F) and exit scores (columns H, I, and J) Analyze these scores by looking at the typical improvement seen for each entry rating compared to the time of service. What percentage of children entering with a score of 1 also exit with a score of 1? How many improve to a 2 or a 3? How does this vary by time of service?"
   ]
  },
  {
   "cell_type": "code",
   "execution_count": null,
   "id": "9ca37c01",
   "metadata": {},
   "outputs": [],
   "source": [
    "import pandas as pd\n",
    "import numpy as np\n",
    "import matplotlib.pyplot as plt\n",
    "import seaborn as sns "
   ]
  },
  {
   "cell_type": "code",
   "execution_count": null,
   "id": "50af16fa",
   "metadata": {},
   "outputs": [],
   "source": [
    "%matplotlib inline"
   ]
  },
  {
   "cell_type": "markdown",
   "id": "480eb264",
   "metadata": {},
   "source": [
    "<b> eco21_22_exit - has negative numbers in days btw IFSP to Exit Eco <b>"
   ]
  },
  {
   "cell_type": "code",
   "execution_count": null,
   "id": "8c63a264",
   "metadata": {
    "scrolled": false
   },
   "outputs": [],
   "source": [
    "eco_21_22_exit = pd.read_excel(\"../Data/TEIS-NSS Project Data 10-2022.xlsx\", sheet_name=\"ECO with Exit21-22\")\n",
    "eco_21_22_exit"
   ]
  },
  {
   "cell_type": "code",
   "execution_count": null,
   "id": "e69b22c9",
   "metadata": {
    "scrolled": true
   },
   "outputs": [],
   "source": [
    "eco_21_22_exit = pd.read_excel(\"../Data/TEIS-NSS Project Data 10-2022.xlsx\", sheet_name=\"ECO with Exit21-22\")\n",
    "eco_21_22_exit.head()"
   ]
  },
  {
   "cell_type": "code",
   "execution_count": null,
   "id": "da7c6f0d",
   "metadata": {
    "scrolled": true
   },
   "outputs": [],
   "source": [
    "eco_21_22_exit.info()"
   ]
  },
  {
   "cell_type": "markdown",
   "id": "b614d6cd",
   "metadata": {},
   "source": [
    "<b> eco_21_22_data <b>"
   ]
  },
  {
   "cell_type": "code",
   "execution_count": null,
   "id": "d32fea82",
   "metadata": {},
   "outputs": [],
   "source": [
    "eco_21_22_data = pd.read_excel(\"../Data/TEIS-NSS Project Data 10-2022.xlsx\", sheet_name=\"Elig Timeline Rpt 2018-2022\")\n",
    "eco_21_22_data"
   ]
  },
  {
   "cell_type": "code",
   "execution_count": null,
   "id": "f7ecde1b",
   "metadata": {},
   "outputs": [],
   "source": [
    "eco_21_22_data = pd.read_excel(\"../Data/TEIS-NSS Project Data 10-2022.xlsx\", sheet_name=\"Elig Timeline Rpt 2018-2022\")\n",
    "eco_21_22_data.head()"
   ]
  },
  {
   "cell_type": "code",
   "execution_count": null,
   "id": "db46453b",
   "metadata": {
    "scrolled": true
   },
   "outputs": [],
   "source": [
    "eco_21_22_data.info()"
   ]
  },
  {
   "cell_type": "code",
   "execution_count": null,
   "id": "272f13ec",
   "metadata": {},
   "outputs": [],
   "source": []
  }
 ],
 "metadata": {
  "kernelspec": {
   "display_name": "Python 3 (ipykernel)",
   "language": "python",
   "name": "python3"
  },
  "language_info": {
   "codemirror_mode": {
    "name": "ipython",
    "version": 3
   },
   "file_extension": ".py",
   "mimetype": "text/x-python",
   "name": "python",
   "nbconvert_exporter": "python",
   "pygments_lexer": "ipython3",
   "version": "3.9.12"
  }
 },
 "nbformat": 4,
 "nbformat_minor": 5
}
