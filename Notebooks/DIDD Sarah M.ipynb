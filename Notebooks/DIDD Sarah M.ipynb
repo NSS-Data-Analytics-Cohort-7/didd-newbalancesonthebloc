{
 "cells": [
  {
   "cell_type": "markdown",
   "id": "eebf13ba",
   "metadata": {},
   "source": [
    "# Project Objective\n",
    "Investigate whether there is any measurable difference in progress based on the eligibility category. There are three options:\n",
    "*Preliminary Analysis*\n",
    "+ Developmental evaluation (delay)\n",
    "+ Diagnosed condition\n",
    "+ Diagnosed condition, developmental evaluation (by both delay and diagnosis)\n",
    "1. Start by looking at overall progress by eligibility category (column AI of the \"Elig Timeline Rpt 2018-2022\" tab)\n",
    "2. Factor in the time of service (\"ECO with Exit-21-22\" tab)\n",
    "3. Do the above comparison by POE as well (column A of the \"ECO with Exit21-22\")\n",
    "*Additional Analysis*\n",
    "Additional areas you can look into are listed below:\n",
    "+ Does typical time of service differ for different eligibility categories?\n",
    "+ Do exit reasons vary by eligibility category? Do more children in one eligibility category age out compared to leaving for other reasons?\n",
    "+ \"ECO with Exit21-22\" contains the entry ECO scores (columns D, E, and F) and exit scores (columns H, I, and J) Analyze these scores by looking at the typical improvement seen for each entry rating compared to the time of service. What percentage of children entering with a score of 1 also exit with a score of 1? How many improve to a 2 or a 3? How does this vary by time of service?\n",
    "\n",
    "<b> Part 2 <b>\n",
    "    \n",
    "Does typical time of service differ for different eligibility categories?"
   ]
  },
  {
   "cell_type": "code",
   "execution_count": null,
   "id": "9ca37c01",
   "metadata": {},
   "outputs": [],
   "source": [
    "import pandas as pd\n",
    "import numpy as np\n",
    "import matplotlib.pyplot as plt\n",
    "import seaborn as sns "
   ]
  },
  {
   "cell_type": "code",
   "execution_count": null,
   "id": "50af16fa",
   "metadata": {},
   "outputs": [],
   "source": [
    "%matplotlib inline"
   ]
  },
  {
   "cell_type": "markdown",
   "id": "480eb264",
   "metadata": {},
   "source": [
    "<b> eco21_22_exit - has negative numbers in days btw IFSP to Exit Eco <b>"
   ]
  },
  {
   "cell_type": "code",
   "execution_count": null,
   "id": "8c63a264",
   "metadata": {
    "scrolled": false
   },
   "outputs": [],
   "source": [
    "eco_21_22_exit = pd.read_excel(\"../Data/TEIS-NSS Project Data 10-2022.xlsx\", sheet_name=\"ECO with Exit21-22\", nrows=8632)\n",
    "eco_21_22_exit"
   ]
  },
  {
   "cell_type": "code",
   "execution_count": null,
   "id": "e69b22c9",
   "metadata": {
    "scrolled": true
   },
   "outputs": [],
   "source": [
    "eco_21_22_exit.head()"
   ]
  },
  {
   "cell_type": "code",
   "execution_count": null,
   "id": "da7c6f0d",
   "metadata": {
    "scrolled": true
   },
   "outputs": [],
   "source": [
    "eco_21_22_exit.info()"
   ]
  },
  {
   "cell_type": "code",
   "execution_count": null,
   "id": "82a8b0ea",
   "metadata": {},
   "outputs": [],
   "source": [
    "eco_21_22_exit.rename(columns = {'CHILD_ID':'Child ID'}, inplace = True)\n",
    "eco_21_22_exit"
   ]
  },
  {
   "cell_type": "markdown",
   "id": "b614d6cd",
   "metadata": {},
   "source": [
    "<b> eco_21_22_data <b>"
   ]
  },
  {
   "cell_type": "code",
   "execution_count": null,
   "id": "d32fea82",
   "metadata": {},
   "outputs": [],
   "source": [
    "eco_21_22_data = pd.read_excel(\"../Data/TEIS-NSS Project Data 10-2022.xlsx\", sheet_name=\"Elig Timeline Rpt 2018-2022\")\n",
    "eco_21_22_data"
   ]
  },
  {
   "cell_type": "code",
   "execution_count": null,
   "id": "f7ecde1b",
   "metadata": {},
   "outputs": [],
   "source": [
    "eco_21_22_data = pd.read_excel(\"../Data/TEIS-NSS Project Data 10-2022.xlsx\", sheet_name=\"Elig Timeline Rpt 2018-2022\")\n",
    "eco_21_22_data.head()"
   ]
  },
  {
   "cell_type": "code",
   "execution_count": null,
   "id": "5dce22c3",
   "metadata": {},
   "outputs": [],
   "source": [
    "eco_21_22_data.rename(columns = {'Init. Elig. Category': 'Init_Elig_Cat'}, inplace=True)\n",
    "eco_21_22_data"
   ]
  },
  {
   "cell_type": "code",
   "execution_count": null,
   "id": "db46453b",
   "metadata": {
    "scrolled": true
   },
   "outputs": [],
   "source": [
    "eco_21_22_data.info()"
   ]
  },
  {
   "cell_type": "markdown",
   "id": "8b79cb55",
   "metadata": {},
   "source": [
    "<b> Making new dataframes for eco_21_22_data and eco_21_22_exit<b>\n",
    "    "
   ]
  },
  {
   "cell_type": "code",
   "execution_count": null,
   "id": "57c4748b",
   "metadata": {},
   "outputs": [],
   "source": [
    "df2_data = eco_21_22_data[['Child ID','Init_Elig_Cat']]\n",
    "df2_data"
   ]
  },
  {
   "cell_type": "code",
   "execution_count": null,
   "id": "66cbf249",
   "metadata": {},
   "outputs": [],
   "source": [
    "df1_exit = eco_21_22_exit[['Child ID','Days btw Initial and Exit', 'Days btw I-IFSP to Exit ECO','Ent SOCIAL_SCALE','Ent KNOWLEDGE_SCALE', 'Ent APPROPRIATE_ACTION_SCALE', 'Exit SOCIAL_SCALE','Exit KNOWLEDGE_SCALE','Exit APPROPRIATE_ACTION_SCALE']].dropna()\n",
    "df1_exit"
   ]
  },
  {
   "cell_type": "code",
   "execution_count": null,
   "id": "880b0673",
   "metadata": {},
   "outputs": [],
   "source": [
    "df1_exit.tail()"
   ]
  },
  {
   "cell_type": "markdown",
   "id": "6c0fa236",
   "metadata": {},
   "source": [
    "1. need to filter df2 to pull 2021,2022 data\n",
    "2. merge df1 and df2 on child id \n",
    "3. can start looking at performance progress (average performance progress grouped by district, elegibality)\n"
   ]
  },
  {
   "cell_type": "code",
   "execution_count": null,
   "id": "cff886db",
   "metadata": {},
   "outputs": [],
   "source": [
    "df1_exit = df1_exit.astype({'Child ID':'int','DISTRICT':'str','<Calc> Months in Program':'int','Ent SOCIAL_SCALE':'int','Ent KNOWLEDGE_SCALE':'int', 'Ent APPROPRIATE_ACTION_SCALE':'int', 'Exit SOCIAL_SCALE':'int','Exit KNOWLEDGE_SCALE':'int','Exit APPROPRIATE_ACTION_SCALE':'int'})\n",
    "df1_exit"
   ]
  },
  {
   "cell_type": "code",
   "execution_count": null,
   "id": "0d971f9e",
   "metadata": {},
   "outputs": [],
   "source": [
    "df1_exit.info()"
   ]
  },
  {
   "cell_type": "code",
   "execution_count": null,
   "id": "c1b3c2ff",
   "metadata": {},
   "outputs": [],
   "source": [
    "df2_dd = df2_data.loc[df2_data.Init_Elig_Cat == 'Developmental Evaluation', :]\n",
    "df2_dd"
   ]
  },
  {
   "cell_type": "markdown",
   "id": "93cd384a",
   "metadata": {},
   "source": [
    "<b> Merging the two new dataframes I made that only have the Cat= Developmental Evaluation and then has the progrerss in the other<b>\n",
    "    \n",
    "    new dataframe is df_merge"
   ]
  },
  {
   "cell_type": "code",
   "execution_count": null,
   "id": "4df1acce",
   "metadata": {},
   "outputs": [],
   "source": [
    "df_merge = df2_dd.merge(df1_exit, on='Child ID')\n",
    "df_merge"
   ]
  },
  {
   "cell_type": "code",
   "execution_count": null,
   "id": "7d7f0d0f",
   "metadata": {},
   "outputs": [],
   "source": [
    "print(\"The mean of column 'Months in Program' is for Developmental Evaluation :\")\n",
    "print(df_merge['<Calc> Months in Program'].mean())"
   ]
  },
  {
   "cell_type": "code",
   "execution_count": null,
   "id": "c60d1cf4",
   "metadata": {},
   "outputs": [],
   "source": [
    "print(df_merge['Ent SOCIAL_SCALE'].sum())"
   ]
  },
  {
   "cell_type": "code",
   "execution_count": null,
   "id": "f0835f90",
   "metadata": {},
   "outputs": [],
   "source": [
    "print(df_merge['Exit SOCIAL_SCALE'].sum())\n"
   ]
  },
  {
   "cell_type": "code",
   "execution_count": null,
   "id": "cd78c615",
   "metadata": {},
   "outputs": [],
   "source": [
    "20247-14449"
   ]
  },
  {
   "cell_type": "markdown",
   "id": "8245708a",
   "metadata": {},
   "source": [
    "### Starting from the top"
   ]
  },
  {
   "cell_type": "code",
   "execution_count": null,
   "id": "70cb8b94",
   "metadata": {},
   "outputs": [],
   "source": [
    "df2_data = eco_21_22_data[['Child ID','Init_Elig_Cat']]\n",
    "df2_data"
   ]
  },
  {
   "cell_type": "code",
   "execution_count": null,
   "id": "0a42de73",
   "metadata": {},
   "outputs": [],
   "source": [
    "df1_exit = eco_21_22_exit[['Child ID','Days btw Initial and Exit', 'Days btw I-IFSP to Exit ECO','Ent SOCIAL_SCALE','Ent KNOWLEDGE_SCALE', 'Ent APPROPRIATE_ACTION_SCALE', 'Exit SOCIAL_SCALE','Exit KNOWLEDGE_SCALE','Exit APPROPRIATE_ACTION_SCALE']].dropna()\n",
    "df1_exit"
   ]
  },
  {
   "cell_type": "code",
   "execution_count": null,
   "id": "4496c1c8",
   "metadata": {},
   "outputs": [],
   "source": [
    "df1_exit = df1_exit.loc[(df1_exit['Days btw Initial and Exit']>=183)]\n",
    "df1_exit = df1_exit.loc[(df1_exit['Days btw I-IFSP to Exit ECO']>0)]"
   ]
  },
  {
   "cell_type": "code",
   "execution_count": null,
   "id": "1a7d232a",
   "metadata": {},
   "outputs": [],
   "source": [
    "df1_exit"
   ]
  },
  {
   "cell_type": "code",
   "execution_count": null,
   "id": "f9540743",
   "metadata": {},
   "outputs": [],
   "source": [
    "df_merge1 = df2_data.merge(df1_exit, on = 'Child ID')\n",
    "df_merge1"
   ]
  },
  {
   "cell_type": "code",
   "execution_count": null,
   "id": "f43ba805",
   "metadata": {},
   "outputs": [],
   "source": [
    "df1_merge_group = df_merge1.groupby('Init_Elig_Cat', as_index=False)['Days btw Initial and Exit','Days btw I-IFSP to Exit ECO'].mean()"
   ]
  },
  {
   "cell_type": "code",
   "execution_count": null,
   "id": "09f53b99",
   "metadata": {},
   "outputs": [],
   "source": [
    "df1_merge_group"
   ]
  },
  {
   "cell_type": "code",
   "execution_count": null,
   "id": "8104369d",
   "metadata": {},
   "outputs": [],
   "source": [
    "453/30\n"
   ]
  },
  {
   "cell_type": "code",
   "execution_count": null,
   "id": "6aa04e63",
   "metadata": {},
   "outputs": [],
   "source": [
    "339/30"
   ]
  },
  {
   "cell_type": "code",
   "execution_count": null,
   "id": "5b005b77",
   "metadata": {},
   "outputs": [],
   "source": [
    "687/30"
   ]
  },
  {
   "cell_type": "code",
   "execution_count": null,
   "id": "8a1c3575",
   "metadata": {},
   "outputs": [],
   "source": [
    "559/30"
   ]
  },
  {
   "cell_type": "code",
   "execution_count": null,
   "id": "178ad5b3",
   "metadata": {},
   "outputs": [],
   "source": [
    "623/30"
   ]
  },
  {
   "cell_type": "code",
   "execution_count": null,
   "id": "eef68521",
   "metadata": {},
   "outputs": [],
   "source": [
    "499/30"
   ]
  },
  {
   "cell_type": "code",
   "execution_count": null,
   "id": "53376c4b",
   "metadata": {},
   "outputs": [],
   "source": [
    "df1_merge_group.info()"
   ]
  },
  {
   "cell_type": "code",
   "execution_count": null,
   "id": "df0a75ea",
   "metadata": {},
   "outputs": [],
   "source": [
    "df1_merge_group['Avg Months btw I and E'] = df1_merge_group['Days btw Initial and Exit']/30\n",
    "df1_merge_group"
   ]
  },
  {
   "cell_type": "code",
   "execution_count": null,
   "id": "95490a5a",
   "metadata": {},
   "outputs": [],
   "source": [
    "df1_merge_group['Avg Months btw I-IFSP and E ECO'] = df1_merge_group['Days btw I-IFSP to Exit ECO']/30\n",
    "df1_merge_group.round()"
   ]
  },
  {
   "cell_type": "code",
   "execution_count": null,
   "id": "53cc77e4",
   "metadata": {},
   "outputs": [],
   "source": [
    "df1_merge_group_re = df1_merge_group.reindex(columns= ['Init_Elig_Cat', 'Days btw Initial and Exit', 'Avg Months btw I and E', 'Days btw I-IFSP to Exit ECO', 'Avg Months btw I-IFSP and E ECO'])\n",
    "df1_merge_group_re.round()"
   ]
  },
  {
   "cell_type": "code",
   "execution_count": null,
   "id": "afb4df6b",
   "metadata": {},
   "outputs": [],
   "source": [
    "Init_Elig_Cat = ['Developmental Evaluation', 'Diagnosed Condition', 'Both']\n",
    "Months = [15,23,21]\n",
    "colors = ['grey', 'blue', 'grey']\n",
    "\n",
    "\n",
    "plt.bar(Init_Elig_Cat, Months, color = colors)\n",
    "plt.title('Time of Service Per Category')\n",
    "plt.xlabel('Category')\n",
    "plt.ylabel('Months')\n",
    "plt.show();\n",
    "\n"
   ]
  },
  {
   "cell_type": "code",
   "execution_count": null,
   "id": "0f08afe6",
   "metadata": {},
   "outputs": [],
   "source": [
    "#let's plot this as a seaborn and have them combined together (days btw initial and days btw i-ifsp) "
   ]
  },
  {
   "cell_type": "code",
   "execution_count": null,
   "id": "0e0c7d8d",
   "metadata": {},
   "outputs": [],
   "source": [
    "#maybe look at doing a line chart.. figma one or whatever it's called "
   ]
  },
  {
   "cell_type": "code",
   "execution_count": null,
   "id": "7bcdeb78",
   "metadata": {},
   "outputs": [],
   "source": []
  }
 ],
 "metadata": {
  "kernelspec": {
   "display_name": "Python 3 (ipykernel)",
   "language": "python",
   "name": "python3"
  },
  "language_info": {
   "codemirror_mode": {
    "name": "ipython",
    "version": 3
   },
   "file_extension": ".py",
   "mimetype": "text/x-python",
   "name": "python",
   "nbconvert_exporter": "python",
   "pygments_lexer": "ipython3",
   "version": "3.9.12"
  }
 },
 "nbformat": 4,
 "nbformat_minor": 5
}
